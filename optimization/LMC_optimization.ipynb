{
 "cells": [
  {
   "cell_type": "code",
   "execution_count": 10,
   "metadata": {},
   "outputs": [
    {
     "name": "stdout",
     "output_type": "stream",
     "text": [
      "The autoreload extension is already loaded. To reload it, use:\n",
      "  %reload_ext autoreload\n"
     ]
    }
   ],
   "source": [
    "%load_ext autoreload\n",
    "%autoreload 2\n",
    "# the imported files are updated each time a cell is executed (good if functions in py files are added and modified)\n",
    "\n",
    "import numpy as np\n",
    "import pandas as pd\n",
    "import plotly.graph_objects as go\n",
    "import sys\n",
    "import os\n",
    "\n",
    "from scipy.spatial.transform import Rotation as R\n",
    "from pyswarms.single.global_best import GlobalBestPSO\n",
    "\n",
    "sys.path.insert(0, '..')\n",
    "sys.path.insert(0, '...')\n",
    "\n",
    "from Python.LMC_util import plotLMC, make_LMC, check_LMC_Hand_visibility, make_hand_poses\n",
    "from Python.plotUtil import plot_hand"
   ]
  },
  {
   "cell_type": "code",
   "execution_count": 11,
   "metadata": {},
   "outputs": [
    {
     "name": "stdout",
     "output_type": "stream",
     "text": [
      "(22, 3)\n"
     ]
    },
    {
     "data": {
      "application/vnd.plotly.v1+json": {
       "config": {
        "plotlyServerURL": "https://plot.ly"
       },
       "data": [
        {
         "marker": {
          "color": "blue",
          "size": 5
         },
         "mode": "markers+text",
         "text": [
          0,
          1,
          2,
          3,
          4,
          5,
          6,
          7,
          8,
          9,
          10,
          11,
          12,
          13,
          14,
          15,
          16,
          17,
          18,
          19,
          20,
          21
         ],
         "type": "scatter3d",
         "x": [
          146.021271,
          64.913452,
          30.547209,
          13.930209,
          3.429539,
          55.317833,
          50.201351,
          44.519241,
          38.734299,
          73.92041,
          72.518295,
          68.983948,
          65.122353,
          95.303505,
          102.852295,
          105.731857,
          106.333076,
          101.414566,
          111.162796,
          122.032127,
          129.104889,
          131.967133
         ],
         "y": [
          -236.74716199999995,
          21.858574000000047,
          58.98228100000005,
          81.43793500000004,
          97.05516800000004,
          93.53913900000005,
          122.36477700000005,
          140.48823500000006,
          152.08926400000004,
          95.27985400000004,
          129.15840100000005,
          151.48281900000006,
          164.05455000000003,
          90.56539200000005,
          122.85159300000004,
          140.30993700000005,
          152.55299400000004,
          29.966721000000046,
          80.52671100000005,
          99.89927700000004,
          113.83253500000004,
          123.89694200000004
         ],
         "z": [
          256.54437300000006,
          215.641891,
          212.836624,
          208.94840999999997,
          205.03225699999996,
          210.07475299999996,
          208.51519799999997,
          202.57232699999997,
          193.52703899999997,
          209.40609699999996,
          206.23629799999998,
          198.49276699999996,
          189.16439799999998,
          205.84558099999998,
          202.69534299999998,
          197.41216999999997,
          189.88087499999997,
          215.373566,
          200.77082799999997,
          197.77571099999997,
          192.24427799999998,
          185.49743699999996
         ]
        }
       ],
       "layout": {
        "height": 1024,
        "scene": {
         "aspectmode": "data",
         "aspectratio": {
          "x": 1,
          "y": 1,
          "z": 1
         },
         "camera": {
          "center": {
           "x": 0,
           "y": 0,
           "z": 0
          },
          "eye": {
           "x": -2,
           "y": -0.5,
           "z": 3
          },
          "up": {
           "x": 0,
           "y": 0,
           "z": 20
          }
         }
        },
        "template": {
         "data": {
          "bar": [
           {
            "error_x": {
             "color": "#2a3f5f"
            },
            "error_y": {
             "color": "#2a3f5f"
            },
            "marker": {
             "line": {
              "color": "#E5ECF6",
              "width": 0.5
             },
             "pattern": {
              "fillmode": "overlay",
              "size": 10,
              "solidity": 0.2
             }
            },
            "type": "bar"
           }
          ],
          "barpolar": [
           {
            "marker": {
             "line": {
              "color": "#E5ECF6",
              "width": 0.5
             },
             "pattern": {
              "fillmode": "overlay",
              "size": 10,
              "solidity": 0.2
             }
            },
            "type": "barpolar"
           }
          ],
          "carpet": [
           {
            "aaxis": {
             "endlinecolor": "#2a3f5f",
             "gridcolor": "white",
             "linecolor": "white",
             "minorgridcolor": "white",
             "startlinecolor": "#2a3f5f"
            },
            "baxis": {
             "endlinecolor": "#2a3f5f",
             "gridcolor": "white",
             "linecolor": "white",
             "minorgridcolor": "white",
             "startlinecolor": "#2a3f5f"
            },
            "type": "carpet"
           }
          ],
          "choropleth": [
           {
            "colorbar": {
             "outlinewidth": 0,
             "ticks": ""
            },
            "type": "choropleth"
           }
          ],
          "contour": [
           {
            "colorbar": {
             "outlinewidth": 0,
             "ticks": ""
            },
            "colorscale": [
             [
              0,
              "#0d0887"
             ],
             [
              0.1111111111111111,
              "#46039f"
             ],
             [
              0.2222222222222222,
              "#7201a8"
             ],
             [
              0.3333333333333333,
              "#9c179e"
             ],
             [
              0.4444444444444444,
              "#bd3786"
             ],
             [
              0.5555555555555556,
              "#d8576b"
             ],
             [
              0.6666666666666666,
              "#ed7953"
             ],
             [
              0.7777777777777778,
              "#fb9f3a"
             ],
             [
              0.8888888888888888,
              "#fdca26"
             ],
             [
              1,
              "#f0f921"
             ]
            ],
            "type": "contour"
           }
          ],
          "contourcarpet": [
           {
            "colorbar": {
             "outlinewidth": 0,
             "ticks": ""
            },
            "type": "contourcarpet"
           }
          ],
          "heatmap": [
           {
            "colorbar": {
             "outlinewidth": 0,
             "ticks": ""
            },
            "colorscale": [
             [
              0,
              "#0d0887"
             ],
             [
              0.1111111111111111,
              "#46039f"
             ],
             [
              0.2222222222222222,
              "#7201a8"
             ],
             [
              0.3333333333333333,
              "#9c179e"
             ],
             [
              0.4444444444444444,
              "#bd3786"
             ],
             [
              0.5555555555555556,
              "#d8576b"
             ],
             [
              0.6666666666666666,
              "#ed7953"
             ],
             [
              0.7777777777777778,
              "#fb9f3a"
             ],
             [
              0.8888888888888888,
              "#fdca26"
             ],
             [
              1,
              "#f0f921"
             ]
            ],
            "type": "heatmap"
           }
          ],
          "heatmapgl": [
           {
            "colorbar": {
             "outlinewidth": 0,
             "ticks": ""
            },
            "colorscale": [
             [
              0,
              "#0d0887"
             ],
             [
              0.1111111111111111,
              "#46039f"
             ],
             [
              0.2222222222222222,
              "#7201a8"
             ],
             [
              0.3333333333333333,
              "#9c179e"
             ],
             [
              0.4444444444444444,
              "#bd3786"
             ],
             [
              0.5555555555555556,
              "#d8576b"
             ],
             [
              0.6666666666666666,
              "#ed7953"
             ],
             [
              0.7777777777777778,
              "#fb9f3a"
             ],
             [
              0.8888888888888888,
              "#fdca26"
             ],
             [
              1,
              "#f0f921"
             ]
            ],
            "type": "heatmapgl"
           }
          ],
          "histogram": [
           {
            "marker": {
             "pattern": {
              "fillmode": "overlay",
              "size": 10,
              "solidity": 0.2
             }
            },
            "type": "histogram"
           }
          ],
          "histogram2d": [
           {
            "colorbar": {
             "outlinewidth": 0,
             "ticks": ""
            },
            "colorscale": [
             [
              0,
              "#0d0887"
             ],
             [
              0.1111111111111111,
              "#46039f"
             ],
             [
              0.2222222222222222,
              "#7201a8"
             ],
             [
              0.3333333333333333,
              "#9c179e"
             ],
             [
              0.4444444444444444,
              "#bd3786"
             ],
             [
              0.5555555555555556,
              "#d8576b"
             ],
             [
              0.6666666666666666,
              "#ed7953"
             ],
             [
              0.7777777777777778,
              "#fb9f3a"
             ],
             [
              0.8888888888888888,
              "#fdca26"
             ],
             [
              1,
              "#f0f921"
             ]
            ],
            "type": "histogram2d"
           }
          ],
          "histogram2dcontour": [
           {
            "colorbar": {
             "outlinewidth": 0,
             "ticks": ""
            },
            "colorscale": [
             [
              0,
              "#0d0887"
             ],
             [
              0.1111111111111111,
              "#46039f"
             ],
             [
              0.2222222222222222,
              "#7201a8"
             ],
             [
              0.3333333333333333,
              "#9c179e"
             ],
             [
              0.4444444444444444,
              "#bd3786"
             ],
             [
              0.5555555555555556,
              "#d8576b"
             ],
             [
              0.6666666666666666,
              "#ed7953"
             ],
             [
              0.7777777777777778,
              "#fb9f3a"
             ],
             [
              0.8888888888888888,
              "#fdca26"
             ],
             [
              1,
              "#f0f921"
             ]
            ],
            "type": "histogram2dcontour"
           }
          ],
          "mesh3d": [
           {
            "colorbar": {
             "outlinewidth": 0,
             "ticks": ""
            },
            "type": "mesh3d"
           }
          ],
          "parcoords": [
           {
            "line": {
             "colorbar": {
              "outlinewidth": 0,
              "ticks": ""
             }
            },
            "type": "parcoords"
           }
          ],
          "pie": [
           {
            "automargin": true,
            "type": "pie"
           }
          ],
          "scatter": [
           {
            "fillpattern": {
             "fillmode": "overlay",
             "size": 10,
             "solidity": 0.2
            },
            "type": "scatter"
           }
          ],
          "scatter3d": [
           {
            "line": {
             "colorbar": {
              "outlinewidth": 0,
              "ticks": ""
             }
            },
            "marker": {
             "colorbar": {
              "outlinewidth": 0,
              "ticks": ""
             }
            },
            "type": "scatter3d"
           }
          ],
          "scattercarpet": [
           {
            "marker": {
             "colorbar": {
              "outlinewidth": 0,
              "ticks": ""
             }
            },
            "type": "scattercarpet"
           }
          ],
          "scattergeo": [
           {
            "marker": {
             "colorbar": {
              "outlinewidth": 0,
              "ticks": ""
             }
            },
            "type": "scattergeo"
           }
          ],
          "scattergl": [
           {
            "marker": {
             "colorbar": {
              "outlinewidth": 0,
              "ticks": ""
             }
            },
            "type": "scattergl"
           }
          ],
          "scattermapbox": [
           {
            "marker": {
             "colorbar": {
              "outlinewidth": 0,
              "ticks": ""
             }
            },
            "type": "scattermapbox"
           }
          ],
          "scatterpolar": [
           {
            "marker": {
             "colorbar": {
              "outlinewidth": 0,
              "ticks": ""
             }
            },
            "type": "scatterpolar"
           }
          ],
          "scatterpolargl": [
           {
            "marker": {
             "colorbar": {
              "outlinewidth": 0,
              "ticks": ""
             }
            },
            "type": "scatterpolargl"
           }
          ],
          "scatterternary": [
           {
            "marker": {
             "colorbar": {
              "outlinewidth": 0,
              "ticks": ""
             }
            },
            "type": "scatterternary"
           }
          ],
          "surface": [
           {
            "colorbar": {
             "outlinewidth": 0,
             "ticks": ""
            },
            "colorscale": [
             [
              0,
              "#0d0887"
             ],
             [
              0.1111111111111111,
              "#46039f"
             ],
             [
              0.2222222222222222,
              "#7201a8"
             ],
             [
              0.3333333333333333,
              "#9c179e"
             ],
             [
              0.4444444444444444,
              "#bd3786"
             ],
             [
              0.5555555555555556,
              "#d8576b"
             ],
             [
              0.6666666666666666,
              "#ed7953"
             ],
             [
              0.7777777777777778,
              "#fb9f3a"
             ],
             [
              0.8888888888888888,
              "#fdca26"
             ],
             [
              1,
              "#f0f921"
             ]
            ],
            "type": "surface"
           }
          ],
          "table": [
           {
            "cells": {
             "fill": {
              "color": "#EBF0F8"
             },
             "line": {
              "color": "white"
             }
            },
            "header": {
             "fill": {
              "color": "#C8D4E3"
             },
             "line": {
              "color": "white"
             }
            },
            "type": "table"
           }
          ]
         },
         "layout": {
          "annotationdefaults": {
           "arrowcolor": "#2a3f5f",
           "arrowhead": 0,
           "arrowwidth": 1
          },
          "autotypenumbers": "strict",
          "coloraxis": {
           "colorbar": {
            "outlinewidth": 0,
            "ticks": ""
           }
          },
          "colorscale": {
           "diverging": [
            [
             0,
             "#8e0152"
            ],
            [
             0.1,
             "#c51b7d"
            ],
            [
             0.2,
             "#de77ae"
            ],
            [
             0.3,
             "#f1b6da"
            ],
            [
             0.4,
             "#fde0ef"
            ],
            [
             0.5,
             "#f7f7f7"
            ],
            [
             0.6,
             "#e6f5d0"
            ],
            [
             0.7,
             "#b8e186"
            ],
            [
             0.8,
             "#7fbc41"
            ],
            [
             0.9,
             "#4d9221"
            ],
            [
             1,
             "#276419"
            ]
           ],
           "sequential": [
            [
             0,
             "#0d0887"
            ],
            [
             0.1111111111111111,
             "#46039f"
            ],
            [
             0.2222222222222222,
             "#7201a8"
            ],
            [
             0.3333333333333333,
             "#9c179e"
            ],
            [
             0.4444444444444444,
             "#bd3786"
            ],
            [
             0.5555555555555556,
             "#d8576b"
            ],
            [
             0.6666666666666666,
             "#ed7953"
            ],
            [
             0.7777777777777778,
             "#fb9f3a"
            ],
            [
             0.8888888888888888,
             "#fdca26"
            ],
            [
             1,
             "#f0f921"
            ]
           ],
           "sequentialminus": [
            [
             0,
             "#0d0887"
            ],
            [
             0.1111111111111111,
             "#46039f"
            ],
            [
             0.2222222222222222,
             "#7201a8"
            ],
            [
             0.3333333333333333,
             "#9c179e"
            ],
            [
             0.4444444444444444,
             "#bd3786"
            ],
            [
             0.5555555555555556,
             "#d8576b"
            ],
            [
             0.6666666666666666,
             "#ed7953"
            ],
            [
             0.7777777777777778,
             "#fb9f3a"
            ],
            [
             0.8888888888888888,
             "#fdca26"
            ],
            [
             1,
             "#f0f921"
            ]
           ]
          },
          "colorway": [
           "#636efa",
           "#EF553B",
           "#00cc96",
           "#ab63fa",
           "#FFA15A",
           "#19d3f3",
           "#FF6692",
           "#B6E880",
           "#FF97FF",
           "#FECB52"
          ],
          "font": {
           "color": "#2a3f5f"
          },
          "geo": {
           "bgcolor": "white",
           "lakecolor": "white",
           "landcolor": "#E5ECF6",
           "showlakes": true,
           "showland": true,
           "subunitcolor": "white"
          },
          "hoverlabel": {
           "align": "left"
          },
          "hovermode": "closest",
          "mapbox": {
           "style": "light"
          },
          "paper_bgcolor": "white",
          "plot_bgcolor": "#E5ECF6",
          "polar": {
           "angularaxis": {
            "gridcolor": "white",
            "linecolor": "white",
            "ticks": ""
           },
           "bgcolor": "#E5ECF6",
           "radialaxis": {
            "gridcolor": "white",
            "linecolor": "white",
            "ticks": ""
           }
          },
          "scene": {
           "xaxis": {
            "backgroundcolor": "#E5ECF6",
            "gridcolor": "white",
            "gridwidth": 2,
            "linecolor": "white",
            "showbackground": true,
            "ticks": "",
            "zerolinecolor": "white"
           },
           "yaxis": {
            "backgroundcolor": "#E5ECF6",
            "gridcolor": "white",
            "gridwidth": 2,
            "linecolor": "white",
            "showbackground": true,
            "ticks": "",
            "zerolinecolor": "white"
           },
           "zaxis": {
            "backgroundcolor": "#E5ECF6",
            "gridcolor": "white",
            "gridwidth": 2,
            "linecolor": "white",
            "showbackground": true,
            "ticks": "",
            "zerolinecolor": "white"
           }
          },
          "shapedefaults": {
           "line": {
            "color": "#2a3f5f"
           }
          },
          "ternary": {
           "aaxis": {
            "gridcolor": "white",
            "linecolor": "white",
            "ticks": ""
           },
           "baxis": {
            "gridcolor": "white",
            "linecolor": "white",
            "ticks": ""
           },
           "bgcolor": "#E5ECF6",
           "caxis": {
            "gridcolor": "white",
            "linecolor": "white",
            "ticks": ""
           }
          },
          "title": {
           "x": 0.05
          },
          "xaxis": {
           "automargin": true,
           "gridcolor": "white",
           "linecolor": "white",
           "ticks": "",
           "title": {
            "standoff": 15
           },
           "zerolinecolor": "white",
           "zerolinewidth": 2
          },
          "yaxis": {
           "automargin": true,
           "gridcolor": "white",
           "linecolor": "white",
           "ticks": "",
           "title": {
            "standoff": 15
           },
           "zerolinecolor": "white",
           "zerolinewidth": 2
          }
         }
        },
        "width": 1024
       }
      }
     },
     "metadata": {},
     "output_type": "display_data"
    }
   ],
   "source": [
    "current_dir = os.getcwd()\n",
    "file_data = \"Static.txt\"\n",
    "\n",
    "filename = os.path.join(current_dir, file_data)\n",
    "dataFile = pd.read_csv(filename,index_col=False,sep=r',|\\t', engine='python')\n",
    "dataFile = dataFile.replace('\\t','', regex=True)\n",
    "\n",
    "# to numpy\n",
    "posDatas_ = dataFile.to_numpy()\n",
    "posDatas = posDatas_[:, [4, 5, 6] + [13+i for i in range(94-13)]] # cut away unnecessary data\n",
    "posDatas = posDatas.reshape(posDatas.shape[0], int(posDatas.shape[1]/3), 3)\n",
    "posDatas = posDatas[:, [i for i in range(posDatas.shape[1]) if i not in [0, 2, 3, 8, 13, 18]]] # cut away unnecessary markers\n",
    "# rotate dta such that z points up\n",
    "frame = (R.from_euler('XYZ', [90, 0, 0], degrees=True).as_matrix().squeeze() @ posDatas[0].T).T\n",
    "print(frame.shape)\n",
    "\n",
    "fig = go.Figure()\n",
    "plot_hand(fig, frame, names=np.arange(0, frame.shape[0]))\n",
    "fig.show()"
   ]
  },
  {
   "cell_type": "markdown",
   "metadata": {},
   "source": [
    "# Check finger visibility for a single frame from a given number of LMCs"
   ]
  },
  {
   "cell_type": "code",
   "execution_count": 12,
   "metadata": {},
   "outputs": [
    {
     "name": "stdout",
     "output_type": "stream",
     "text": [
      "___________________________________\n",
      "Finger  0\n",
      "___________________________________\n",
      "Finger  1\n",
      "___________________________________\n",
      "Finger  2\n",
      "___________________________________\n",
      "Finger  3\n",
      "___________________________________\n",
      "Finger  4\n",
      "[1. 1. 1. 1. 1. 1. 1.]\n",
      "[[1. 1. 1. 1. 1.]]\n"
     ]
    },
    {
     "data": {
      "application/vnd.plotly.v1+json": {
       "config": {
        "plotlyServerURL": "https://plot.ly"
       },
       "data": [
        {
         "marker": {
          "color": "orange",
          "size": 5
         },
         "mode": "markers+text",
         "text": [
          0,
          1,
          2,
          3,
          4,
          5,
          6,
          7,
          8,
          9,
          10,
          11,
          12,
          13,
          14,
          15,
          16,
          17,
          18,
          19,
          20,
          21
         ],
         "type": "scatter3d",
         "x": [
          146.021271,
          64.913452,
          30.547209,
          13.930209,
          3.429539,
          55.317833,
          50.201351,
          44.519241,
          38.734299,
          73.92041,
          72.518295,
          68.983948,
          65.122353,
          95.303505,
          102.852295,
          105.731857,
          106.333076,
          101.414566,
          111.162796,
          122.032127,
          129.104889,
          131.967133
         ],
         "y": [
          -236.74716199999995,
          21.858574000000047,
          58.98228100000005,
          81.43793500000004,
          97.05516800000004,
          93.53913900000005,
          122.36477700000005,
          140.48823500000006,
          152.08926400000004,
          95.27985400000004,
          129.15840100000005,
          151.48281900000006,
          164.05455000000003,
          90.56539200000005,
          122.85159300000004,
          140.30993700000005,
          152.55299400000004,
          29.966721000000046,
          80.52671100000005,
          99.89927700000004,
          113.83253500000004,
          123.89694200000004
         ],
         "z": [
          256.54437300000006,
          215.641891,
          212.836624,
          208.94840999999997,
          205.03225699999996,
          210.07475299999996,
          208.51519799999997,
          202.57232699999997,
          193.52703899999997,
          209.40609699999996,
          206.23629799999998,
          198.49276699999996,
          189.16439799999998,
          205.84558099999998,
          202.69534299999998,
          197.41216999999997,
          189.88087499999997,
          215.373566,
          200.77082799999997,
          197.77571099999997,
          192.24427799999998,
          185.49743699999996
         ]
        },
        {
         "marker": {
          "color": "orange",
          "size": 5
         },
         "mode": "markers+text",
         "type": "scatter3d",
         "x": [
          0
         ],
         "y": [
          0
         ],
         "z": [
          0
         ]
        },
        {
         "line": {
          "color": "orange",
          "width": 2
         },
         "mode": "lines",
         "type": "scatter3d",
         "x": [
          0,
          0,
          null
         ],
         "y": [
          0,
          -519.6152422706632,
          null
         ],
         "z": [
          0,
          299.99999999999994,
          null
         ]
        },
        {
         "colorscale": [
          [
           0,
           "orange"
          ],
          [
           1,
           "orange"
          ]
         ],
         "showlegend": false,
         "showscale": false,
         "type": "cone",
         "u": [
          0
         ],
         "v": [
          -155.88457268119896
         ],
         "w": [
          89.99999999999999
         ],
         "x": [
          0
         ],
         "y": [
          -509.22293742524994
         ],
         "z": [
          293.99999999999994
         ]
        },
        {
         "marker": {
          "color": "orange",
          "size": 5
         },
         "mode": "markers+text",
         "type": "scatter3d",
         "x": [
          0
         ],
         "y": [
          0
         ],
         "z": [
          0
         ]
        },
        {
         "line": {
          "color": "orange",
          "width": 2
         },
         "mode": "lines",
         "type": "scatter3d",
         "x": [
          0,
          579.555495773441,
          null
         ],
         "y": [
          0,
          0,
          null
         ],
         "z": [
          0,
          155.29142706151245,
          null
         ]
        },
        {
         "colorscale": [
          [
           0,
           "orange"
          ],
          [
           1,
           "orange"
          ]
         ],
         "showlegend": false,
         "showscale": false,
         "type": "cone",
         "u": [
          173.86664873203227
         ],
         "v": [
          0
         ],
         "w": [
          46.58742811845374
         ],
         "x": [
          567.9643858579722
         ],
         "y": [
          0
         ],
         "z": [
          152.1855985202822
         ]
        },
        {
         "marker": {
          "color": "orange",
          "size": 5
         },
         "mode": "markers+text",
         "type": "scatter3d",
         "x": [
          0
         ],
         "y": [
          0
         ],
         "z": [
          0
         ]
        },
        {
         "line": {
          "color": "orange",
          "width": 2
         },
         "mode": "lines",
         "type": "scatter3d",
         "x": [
          0,
          0,
          null
         ],
         "y": [
          0,
          519.6152422706632,
          null
         ],
         "z": [
          0,
          299.99999999999994,
          null
         ]
        },
        {
         "colorscale": [
          [
           0,
           "orange"
          ],
          [
           1,
           "orange"
          ]
         ],
         "showlegend": false,
         "showscale": false,
         "type": "cone",
         "u": [
          0
         ],
         "v": [
          155.88457268119896
         ],
         "w": [
          89.99999999999999
         ],
         "x": [
          0
         ],
         "y": [
          509.22293742524994
         ],
         "z": [
          293.99999999999994
         ]
        },
        {
         "marker": {
          "color": "orange",
          "size": 5
         },
         "mode": "markers+text",
         "type": "scatter3d",
         "x": [
          0
         ],
         "y": [
          0
         ],
         "z": [
          0
         ]
        },
        {
         "line": {
          "color": "orange",
          "width": 2
         },
         "mode": "lines",
         "type": "scatter3d",
         "x": [
          0,
          -579.555495773441,
          null
         ],
         "y": [
          0,
          0,
          null
         ],
         "z": [
          0,
          155.29142706151245,
          null
         ]
        },
        {
         "colorscale": [
          [
           0,
           "orange"
          ],
          [
           1,
           "orange"
          ]
         ],
         "showlegend": false,
         "showscale": false,
         "type": "cone",
         "u": [
          -173.86664873203227
         ],
         "v": [
          0
         ],
         "w": [
          46.58742811845374
         ],
         "x": [
          -567.9643858579722
         ],
         "y": [
          0
         ],
         "z": [
          152.1855985202822
         ]
        },
        {
         "marker": {
          "color": "orange",
          "size": 5
         },
         "mode": "markers+text",
         "text": "0d",
         "type": "scatter3d",
         "x": [
          0
         ],
         "y": [
          -259.8076211353316
         ],
         "z": [
          149.99999999999997
         ]
        },
        {
         "marker": {
          "color": "orange",
          "size": 5
         },
         "mode": "markers+text",
         "text": "1d",
         "type": "scatter3d",
         "x": [
          579.555495773441
         ],
         "y": [
          0
         ],
         "z": [
          155.29142706151245
         ]
        },
        {
         "marker": {
          "color": "orange",
          "size": 5
         },
         "mode": "markers+text",
         "text": "2d",
         "type": "scatter3d",
         "x": [
          0
         ],
         "y": [
          259.8076211353316
         ],
         "z": [
          149.99999999999997
         ]
        },
        {
         "marker": {
          "color": "orange",
          "size": 5
         },
         "mode": "markers+text",
         "text": "3d",
         "type": "scatter3d",
         "x": [
          -579.555495773441
         ],
         "y": [
          0
         ],
         "z": [
          155.29142706151245
         ]
        },
        {
         "marker": {
          "color": "gray",
          "size": 5
         },
         "mode": "markers+text",
         "type": "scatter3d",
         "x": [
          0
         ],
         "y": [
          0
         ],
         "z": [
          0
         ]
        },
        {
         "line": {
          "color": "gray",
          "width": 2
         },
         "mode": "lines",
         "type": "scatter3d",
         "x": [
          0,
          0,
          null
         ],
         "y": [
          0,
          600,
          null
         ],
         "z": [
          0,
          0,
          null
         ]
        },
        {
         "colorscale": [
          [
           0,
           "gray"
          ],
          [
           1,
           "gray"
          ]
         ],
         "showlegend": false,
         "showscale": false,
         "type": "cone",
         "u": [
          0
         ],
         "v": [
          180
         ],
         "w": [
          0
         ],
         "x": [
          0
         ],
         "y": [
          588
         ],
         "z": [
          0
         ]
        },
        {
         "marker": {
          "color": "orange",
          "size": 5
         },
         "mode": "markers+text",
         "text": "Device 1",
         "type": "scatter3d",
         "x": [
          0
         ],
         "y": [
          0
         ],
         "z": [
          0
         ]
        }
       ],
       "layout": {
        "height": 1024,
        "scene": {
         "aspectmode": "data",
         "aspectratio": {
          "x": 1,
          "y": 1,
          "z": 1
         },
         "camera": {
          "center": {
           "x": 0,
           "y": 0,
           "z": 0
          },
          "eye": {
           "x": 0,
           "y": -1,
           "z": 3
          },
          "up": {
           "x": 0,
           "y": -30,
           "z": 40
          }
         }
        },
        "template": {
         "data": {
          "bar": [
           {
            "error_x": {
             "color": "#2a3f5f"
            },
            "error_y": {
             "color": "#2a3f5f"
            },
            "marker": {
             "line": {
              "color": "#E5ECF6",
              "width": 0.5
             },
             "pattern": {
              "fillmode": "overlay",
              "size": 10,
              "solidity": 0.2
             }
            },
            "type": "bar"
           }
          ],
          "barpolar": [
           {
            "marker": {
             "line": {
              "color": "#E5ECF6",
              "width": 0.5
             },
             "pattern": {
              "fillmode": "overlay",
              "size": 10,
              "solidity": 0.2
             }
            },
            "type": "barpolar"
           }
          ],
          "carpet": [
           {
            "aaxis": {
             "endlinecolor": "#2a3f5f",
             "gridcolor": "white",
             "linecolor": "white",
             "minorgridcolor": "white",
             "startlinecolor": "#2a3f5f"
            },
            "baxis": {
             "endlinecolor": "#2a3f5f",
             "gridcolor": "white",
             "linecolor": "white",
             "minorgridcolor": "white",
             "startlinecolor": "#2a3f5f"
            },
            "type": "carpet"
           }
          ],
          "choropleth": [
           {
            "colorbar": {
             "outlinewidth": 0,
             "ticks": ""
            },
            "type": "choropleth"
           }
          ],
          "contour": [
           {
            "colorbar": {
             "outlinewidth": 0,
             "ticks": ""
            },
            "colorscale": [
             [
              0,
              "#0d0887"
             ],
             [
              0.1111111111111111,
              "#46039f"
             ],
             [
              0.2222222222222222,
              "#7201a8"
             ],
             [
              0.3333333333333333,
              "#9c179e"
             ],
             [
              0.4444444444444444,
              "#bd3786"
             ],
             [
              0.5555555555555556,
              "#d8576b"
             ],
             [
              0.6666666666666666,
              "#ed7953"
             ],
             [
              0.7777777777777778,
              "#fb9f3a"
             ],
             [
              0.8888888888888888,
              "#fdca26"
             ],
             [
              1,
              "#f0f921"
             ]
            ],
            "type": "contour"
           }
          ],
          "contourcarpet": [
           {
            "colorbar": {
             "outlinewidth": 0,
             "ticks": ""
            },
            "type": "contourcarpet"
           }
          ],
          "heatmap": [
           {
            "colorbar": {
             "outlinewidth": 0,
             "ticks": ""
            },
            "colorscale": [
             [
              0,
              "#0d0887"
             ],
             [
              0.1111111111111111,
              "#46039f"
             ],
             [
              0.2222222222222222,
              "#7201a8"
             ],
             [
              0.3333333333333333,
              "#9c179e"
             ],
             [
              0.4444444444444444,
              "#bd3786"
             ],
             [
              0.5555555555555556,
              "#d8576b"
             ],
             [
              0.6666666666666666,
              "#ed7953"
             ],
             [
              0.7777777777777778,
              "#fb9f3a"
             ],
             [
              0.8888888888888888,
              "#fdca26"
             ],
             [
              1,
              "#f0f921"
             ]
            ],
            "type": "heatmap"
           }
          ],
          "heatmapgl": [
           {
            "colorbar": {
             "outlinewidth": 0,
             "ticks": ""
            },
            "colorscale": [
             [
              0,
              "#0d0887"
             ],
             [
              0.1111111111111111,
              "#46039f"
             ],
             [
              0.2222222222222222,
              "#7201a8"
             ],
             [
              0.3333333333333333,
              "#9c179e"
             ],
             [
              0.4444444444444444,
              "#bd3786"
             ],
             [
              0.5555555555555556,
              "#d8576b"
             ],
             [
              0.6666666666666666,
              "#ed7953"
             ],
             [
              0.7777777777777778,
              "#fb9f3a"
             ],
             [
              0.8888888888888888,
              "#fdca26"
             ],
             [
              1,
              "#f0f921"
             ]
            ],
            "type": "heatmapgl"
           }
          ],
          "histogram": [
           {
            "marker": {
             "pattern": {
              "fillmode": "overlay",
              "size": 10,
              "solidity": 0.2
             }
            },
            "type": "histogram"
           }
          ],
          "histogram2d": [
           {
            "colorbar": {
             "outlinewidth": 0,
             "ticks": ""
            },
            "colorscale": [
             [
              0,
              "#0d0887"
             ],
             [
              0.1111111111111111,
              "#46039f"
             ],
             [
              0.2222222222222222,
              "#7201a8"
             ],
             [
              0.3333333333333333,
              "#9c179e"
             ],
             [
              0.4444444444444444,
              "#bd3786"
             ],
             [
              0.5555555555555556,
              "#d8576b"
             ],
             [
              0.6666666666666666,
              "#ed7953"
             ],
             [
              0.7777777777777778,
              "#fb9f3a"
             ],
             [
              0.8888888888888888,
              "#fdca26"
             ],
             [
              1,
              "#f0f921"
             ]
            ],
            "type": "histogram2d"
           }
          ],
          "histogram2dcontour": [
           {
            "colorbar": {
             "outlinewidth": 0,
             "ticks": ""
            },
            "colorscale": [
             [
              0,
              "#0d0887"
             ],
             [
              0.1111111111111111,
              "#46039f"
             ],
             [
              0.2222222222222222,
              "#7201a8"
             ],
             [
              0.3333333333333333,
              "#9c179e"
             ],
             [
              0.4444444444444444,
              "#bd3786"
             ],
             [
              0.5555555555555556,
              "#d8576b"
             ],
             [
              0.6666666666666666,
              "#ed7953"
             ],
             [
              0.7777777777777778,
              "#fb9f3a"
             ],
             [
              0.8888888888888888,
              "#fdca26"
             ],
             [
              1,
              "#f0f921"
             ]
            ],
            "type": "histogram2dcontour"
           }
          ],
          "mesh3d": [
           {
            "colorbar": {
             "outlinewidth": 0,
             "ticks": ""
            },
            "type": "mesh3d"
           }
          ],
          "parcoords": [
           {
            "line": {
             "colorbar": {
              "outlinewidth": 0,
              "ticks": ""
             }
            },
            "type": "parcoords"
           }
          ],
          "pie": [
           {
            "automargin": true,
            "type": "pie"
           }
          ],
          "scatter": [
           {
            "fillpattern": {
             "fillmode": "overlay",
             "size": 10,
             "solidity": 0.2
            },
            "type": "scatter"
           }
          ],
          "scatter3d": [
           {
            "line": {
             "colorbar": {
              "outlinewidth": 0,
              "ticks": ""
             }
            },
            "marker": {
             "colorbar": {
              "outlinewidth": 0,
              "ticks": ""
             }
            },
            "type": "scatter3d"
           }
          ],
          "scattercarpet": [
           {
            "marker": {
             "colorbar": {
              "outlinewidth": 0,
              "ticks": ""
             }
            },
            "type": "scattercarpet"
           }
          ],
          "scattergeo": [
           {
            "marker": {
             "colorbar": {
              "outlinewidth": 0,
              "ticks": ""
             }
            },
            "type": "scattergeo"
           }
          ],
          "scattergl": [
           {
            "marker": {
             "colorbar": {
              "outlinewidth": 0,
              "ticks": ""
             }
            },
            "type": "scattergl"
           }
          ],
          "scattermapbox": [
           {
            "marker": {
             "colorbar": {
              "outlinewidth": 0,
              "ticks": ""
             }
            },
            "type": "scattermapbox"
           }
          ],
          "scatterpolar": [
           {
            "marker": {
             "colorbar": {
              "outlinewidth": 0,
              "ticks": ""
             }
            },
            "type": "scatterpolar"
           }
          ],
          "scatterpolargl": [
           {
            "marker": {
             "colorbar": {
              "outlinewidth": 0,
              "ticks": ""
             }
            },
            "type": "scatterpolargl"
           }
          ],
          "scatterternary": [
           {
            "marker": {
             "colorbar": {
              "outlinewidth": 0,
              "ticks": ""
             }
            },
            "type": "scatterternary"
           }
          ],
          "surface": [
           {
            "colorbar": {
             "outlinewidth": 0,
             "ticks": ""
            },
            "colorscale": [
             [
              0,
              "#0d0887"
             ],
             [
              0.1111111111111111,
              "#46039f"
             ],
             [
              0.2222222222222222,
              "#7201a8"
             ],
             [
              0.3333333333333333,
              "#9c179e"
             ],
             [
              0.4444444444444444,
              "#bd3786"
             ],
             [
              0.5555555555555556,
              "#d8576b"
             ],
             [
              0.6666666666666666,
              "#ed7953"
             ],
             [
              0.7777777777777778,
              "#fb9f3a"
             ],
             [
              0.8888888888888888,
              "#fdca26"
             ],
             [
              1,
              "#f0f921"
             ]
            ],
            "type": "surface"
           }
          ],
          "table": [
           {
            "cells": {
             "fill": {
              "color": "#EBF0F8"
             },
             "line": {
              "color": "white"
             }
            },
            "header": {
             "fill": {
              "color": "#C8D4E3"
             },
             "line": {
              "color": "white"
             }
            },
            "type": "table"
           }
          ]
         },
         "layout": {
          "annotationdefaults": {
           "arrowcolor": "#2a3f5f",
           "arrowhead": 0,
           "arrowwidth": 1
          },
          "autotypenumbers": "strict",
          "coloraxis": {
           "colorbar": {
            "outlinewidth": 0,
            "ticks": ""
           }
          },
          "colorscale": {
           "diverging": [
            [
             0,
             "#8e0152"
            ],
            [
             0.1,
             "#c51b7d"
            ],
            [
             0.2,
             "#de77ae"
            ],
            [
             0.3,
             "#f1b6da"
            ],
            [
             0.4,
             "#fde0ef"
            ],
            [
             0.5,
             "#f7f7f7"
            ],
            [
             0.6,
             "#e6f5d0"
            ],
            [
             0.7,
             "#b8e186"
            ],
            [
             0.8,
             "#7fbc41"
            ],
            [
             0.9,
             "#4d9221"
            ],
            [
             1,
             "#276419"
            ]
           ],
           "sequential": [
            [
             0,
             "#0d0887"
            ],
            [
             0.1111111111111111,
             "#46039f"
            ],
            [
             0.2222222222222222,
             "#7201a8"
            ],
            [
             0.3333333333333333,
             "#9c179e"
            ],
            [
             0.4444444444444444,
             "#bd3786"
            ],
            [
             0.5555555555555556,
             "#d8576b"
            ],
            [
             0.6666666666666666,
             "#ed7953"
            ],
            [
             0.7777777777777778,
             "#fb9f3a"
            ],
            [
             0.8888888888888888,
             "#fdca26"
            ],
            [
             1,
             "#f0f921"
            ]
           ],
           "sequentialminus": [
            [
             0,
             "#0d0887"
            ],
            [
             0.1111111111111111,
             "#46039f"
            ],
            [
             0.2222222222222222,
             "#7201a8"
            ],
            [
             0.3333333333333333,
             "#9c179e"
            ],
            [
             0.4444444444444444,
             "#bd3786"
            ],
            [
             0.5555555555555556,
             "#d8576b"
            ],
            [
             0.6666666666666666,
             "#ed7953"
            ],
            [
             0.7777777777777778,
             "#fb9f3a"
            ],
            [
             0.8888888888888888,
             "#fdca26"
            ],
            [
             1,
             "#f0f921"
            ]
           ]
          },
          "colorway": [
           "#636efa",
           "#EF553B",
           "#00cc96",
           "#ab63fa",
           "#FFA15A",
           "#19d3f3",
           "#FF6692",
           "#B6E880",
           "#FF97FF",
           "#FECB52"
          ],
          "font": {
           "color": "#2a3f5f"
          },
          "geo": {
           "bgcolor": "white",
           "lakecolor": "white",
           "landcolor": "#E5ECF6",
           "showlakes": true,
           "showland": true,
           "subunitcolor": "white"
          },
          "hoverlabel": {
           "align": "left"
          },
          "hovermode": "closest",
          "mapbox": {
           "style": "light"
          },
          "paper_bgcolor": "white",
          "plot_bgcolor": "#E5ECF6",
          "polar": {
           "angularaxis": {
            "gridcolor": "white",
            "linecolor": "white",
            "ticks": ""
           },
           "bgcolor": "#E5ECF6",
           "radialaxis": {
            "gridcolor": "white",
            "linecolor": "white",
            "ticks": ""
           }
          },
          "scene": {
           "xaxis": {
            "backgroundcolor": "#E5ECF6",
            "gridcolor": "white",
            "gridwidth": 2,
            "linecolor": "white",
            "showbackground": true,
            "ticks": "",
            "zerolinecolor": "white"
           },
           "yaxis": {
            "backgroundcolor": "#E5ECF6",
            "gridcolor": "white",
            "gridwidth": 2,
            "linecolor": "white",
            "showbackground": true,
            "ticks": "",
            "zerolinecolor": "white"
           },
           "zaxis": {
            "backgroundcolor": "#E5ECF6",
            "gridcolor": "white",
            "gridwidth": 2,
            "linecolor": "white",
            "showbackground": true,
            "ticks": "",
            "zerolinecolor": "white"
           }
          },
          "shapedefaults": {
           "line": {
            "color": "#2a3f5f"
           }
          },
          "ternary": {
           "aaxis": {
            "gridcolor": "white",
            "linecolor": "white",
            "ticks": ""
           },
           "baxis": {
            "gridcolor": "white",
            "linecolor": "white",
            "ticks": ""
           },
           "bgcolor": "#E5ECF6",
           "caxis": {
            "gridcolor": "white",
            "linecolor": "white",
            "ticks": ""
           }
          },
          "title": {
           "x": 0.05
          },
          "xaxis": {
           "automargin": true,
           "gridcolor": "white",
           "linecolor": "white",
           "ticks": "",
           "title": {
            "standoff": 15
           },
           "zerolinecolor": "white",
           "zerolinewidth": 2
          },
          "yaxis": {
           "automargin": true,
           "gridcolor": "white",
           "linecolor": "white",
           "ticks": "",
           "title": {
            "standoff": 15
           },
           "zerolinecolor": "white",
           "zerolinewidth": 2
          }
         }
        },
        "width": 1024
       }
      }
     },
     "metadata": {},
     "output_type": "display_data"
    }
   ],
   "source": [
    "from Python.LMC_util import fingers_idx_LMC\n",
    "\n",
    "# Input parameter\n",
    "finger_radius = 10 # mm\n",
    "\n",
    "# LMC settings\n",
    "num_LMC = 1\n",
    "LMC_H = 600 # mm\n",
    "LMC_alpha1 = (180-150) / 2 * np.pi / 180\n",
    "LMC_alpha2 = (180-120) / 2 * np.pi / 180\n",
    "deviceColor = ['orange', 'blue', 'green', 'black']\n",
    "deviceLabel = ['Device {}'.format(i) for i in range(1, num_LMC+1)]\n",
    "LMC_positions = np.array([0,0,0]*num_LMC).reshape(num_LMC, 3) # in mm\n",
    "LMC_orientations = np.array([0,0,0]*num_LMC).reshape(num_LMC, 3) # in deg\n",
    "LMCs = [make_LMC(LMC_loc=LMC_positions[i], LMC_orient=LMC_orientations[i], LMC_H=LMC_H, LMC_alpha1=LMC_alpha1, LMC_alpha2=LMC_alpha2) for i in range(num_LMC)]\n",
    "\n",
    "# input data\n",
    "frames = np.array([frame]) # one row for a single frame of each LMC\n",
    "#transform data in global frame\n",
    "for lm, LMC in enumerate(LMCs):\n",
    "    LMC_orient = R.from_euler('xyz', [*LMC[1]], degrees=True).as_matrix().squeeze()\n",
    "    frames[lm, :] = (LMC_orient @ (frames[lm, :] + LMC[0]).T).T \n",
    "\n",
    "# get data for ray tracing\n",
    "handMarkers, palmMarkers, palmPlnNormals, palmCentroids, fingers, forearm_vecs = make_hand_poses(frames)   \n",
    "occlusions = np.zeros([num_LMC, 5])\n",
    "fig = go.Figure()\n",
    "for lm, LMC in enumerate(LMCs):\n",
    "    occlusions_, _ = check_LMC_Hand_visibility(LMC, pos_markers=handMarkers[lm], fingers_idx=fingers_idx_LMC, finger_lines=fingers[lm], \n",
    "                                                finger_radius=finger_radius, palm_plane_normal=palmPlnNormals[lm], \n",
    "                                                palm_centroid=palmCentroids[lm], palm_markers=palmMarkers[lm], forearm_vec=forearm_vecs[lm],\n",
    "                                                fig = fig, verbose=1)\n",
    "    print(occlusions_)\n",
    "    occlusions[lm] = occlusions_[2:]\n",
    "\n",
    "print(occlusions) # 0: thumb, 4:pinky\n",
    "\n",
    "\n",
    "for lm, LMC in enumerate(LMCs):\n",
    "    fig = plot_hand(fig, frames[lm], color=deviceColor[lm], names=np.arange(0, frames[lm].shape[0]))\n",
    "    fig = plotLMC(fig, LMC, color=deviceColor[lm], name=deviceLabel[lm], scale=1)\n",
    "fig.show()"
   ]
  },
  {
   "cell_type": "markdown",
   "metadata": {},
   "source": [
    "# Optimize LMC position for Recorded leap data"
   ]
  },
  {
   "cell_type": "code",
   "execution_count": 13,
   "metadata": {},
   "outputs": [
    {
     "name": "stderr",
     "output_type": "stream",
     "text": [
      "2024-08-28 17:01:50,343 - pyswarms.single.global_best - INFO - Optimize for 100 iters with {'c1': 0.5, 'c2': 0.3, 'w': 0.9}\n"
     ]
    },
    {
     "name": "stdout",
     "output_type": "stream",
     "text": [
      "(10, 22, 3)\n",
      "(10, 22, 3)\n"
     ]
    },
    {
     "name": "stderr",
     "output_type": "stream",
     "text": [
      "pyswarms.single.global_best: 100%|██████████|100/100, best_cost=0   \n",
      "2024-08-28 17:07:22,086 - pyswarms.single.global_best - INFO - Optimization finished | best cost: 0.0, best pos: [ 0.19718682  0.08902858  0.06332609  0.13283798  0.12871504  0.18848024\n",
      " -0.22142844  0.35550357  0.15188389  0.36851435  0.34696232  0.41174164\n",
      " -0.00238062  0.01775739  0.33624525  0.44922393]\n"
     ]
    },
    {
     "name": "stdout",
     "output_type": "stream",
     "text": [
      "_________________________________\n",
      "POS:  0\n",
      "[1. 1. 1. 1. 1.] 5.0\n",
      "[1. 1. 1. 1. 1.] 5.0\n",
      "[1. 1. 1. 1. 1.] 5.0\n",
      "[1. 1. 1. 1. 1.] 5.0\n",
      "Best LMC:  [0 1 2 3]\n",
      "_________________________________\n",
      "POS:  1\n",
      "[1. 1. 1. 1. 1.] 5.0\n",
      "[1. 1. 1. 1. 1.] 5.0\n",
      "[1. 1. 1. 1. 1.] 5.0\n",
      "[1. 1. 1. 1. 1.] 5.0\n",
      "Best LMC:  [0 1 2 3]\n",
      "_________________________________\n",
      "POS:  2\n",
      "[1. 1. 1. 1. 1.] 5.0\n",
      "[1. 1. 1. 1. 1.] 5.0\n",
      "[1. 1. 1. 1. 1.] 5.0\n",
      "[1. 1. 1. 1. 1.] 5.0\n",
      "Best LMC:  [0 1 2 3]\n",
      "_________________________________\n",
      "POS:  3\n",
      "[1. 1. 1. 1. 1.] 5.0\n",
      "[1. 1. 1. 1. 1.] 5.0\n",
      "[1. 1. 1. 1. 1.] 5.0\n",
      "[1. 1. 1. 1. 1.] 5.0\n",
      "Best LMC:  [0 1 2 3]\n",
      "_________________________________\n",
      "POS:  4\n",
      "[1. 1. 1. 1. 1.] 5.0\n",
      "[1. 1. 1. 1. 1.] 5.0\n",
      "[1. 1. 1. 1. 1.] 5.0\n",
      "[1. 1. 1. 1. 1.] 5.0\n",
      "Best LMC:  [0 1 2 3]\n",
      "_________________________________\n",
      "POS:  5\n",
      "[1. 1. 1. 1. 1.] 5.0\n",
      "[1. 1. 1. 1. 1.] 5.0\n",
      "[1. 1. 1. 1. 1.] 5.0\n",
      "[1. 1. 1. 1. 1.] 5.0\n",
      "Best LMC:  [0 1 2 3]\n",
      "_________________________________\n",
      "POS:  6\n",
      "[1. 1. 1. 1. 1.] 5.0\n",
      "[1. 1. 1. 1. 1.] 5.0\n",
      "[1. 1. 1. 1. 1.] 5.0\n",
      "[1. 1. 1. 1. 1.] 5.0\n",
      "Best LMC:  [0 1 2 3]\n",
      "_________________________________\n",
      "POS:  7\n",
      "[1. 1. 1. 1. 1.] 5.0\n",
      "[1. 1. 1. 1. 1.] 5.0\n",
      "[1. 1. 1. 1. 1.] 5.0\n",
      "[1. 1. 1. 1. 1.] 5.0\n",
      "Best LMC:  [0 1 2 3]\n",
      "_________________________________\n",
      "POS:  8\n",
      "[1. 1. 1. 1. 1.] 5.0\n",
      "[1. 1. 1. 1. 1.] 5.0\n",
      "[1. 1. 1. 1. 1.] 5.0\n",
      "[1. 1. 1. 1. 1.] 5.0\n",
      "Best LMC:  [0 1 2 3]\n",
      "_________________________________\n",
      "POS:  9\n",
      "[1. 1. 1. 1. 1.] 5.0\n",
      "[1. 1. 1. 1. 1.] 5.0\n",
      "[1. 1. 1. 1. 1.] 5.0\n",
      "[1. 1. 1. 1. 1.] 5.0\n",
      "Best LMC:  [0 1 2 3]\n",
      "[10. 10. 10. 10.]\n",
      "[[4 4 4 4 4]\n",
      " [4 4 4 4 4]\n",
      " [4 4 4 4 4]\n",
      " [4 4 4 4 4]\n",
      " [4 4 4 4 4]\n",
      " [4 4 4 4 4]\n",
      " [4 4 4 4 4]\n",
      " [4 4 4 4 4]\n",
      " [4 4 4 4 4]\n",
      " [4 4 4 4 4]]\n"
     ]
    },
    {
     "data": {
      "application/vnd.plotly.v1+json": {
       "config": {
        "plotlyServerURL": "https://plot.ly"
       },
       "data": [
        {
         "marker": {
          "color": "orange",
          "size": 5
         },
         "mode": "markers+text",
         "type": "scatter3d",
         "x": [
          197.18681536069494
         ],
         "y": [
          89.0285784874381
         ],
         "z": [
          0
         ]
        },
        {
         "line": {
          "color": "orange",
          "width": 2
         },
         "mode": "lines",
         "type": "scatter3d",
         "x": [
          197.18681536069494,
          418.8286513708158,
          null
         ],
         "y": [
          89.0285784874381,
          -410.8793725046329,
          null
         ],
         "z": [
          0,
          246.91483767682303,
          null
         ]
        },
        {
         "colorscale": [
          [
           0,
           "orange"
          ],
          [
           1,
           "orange"
          ]
         ],
         "showlegend": false,
         "showscale": false,
         "type": "cone",
         "u": [
          66.49255080303625
         ],
         "v": [
          -149.9723852976213
         ],
         "w": [
          74.0744513030469
         ],
         "x": [
          414.3958146506134
         ],
         "y": [
          -400.8812134847915
         ],
         "z": [
          241.97654092328656
         ]
        },
        {
         "marker": {
          "color": "orange",
          "size": 5
         },
         "mode": "markers+text",
         "type": "scatter3d",
         "x": [
          197.18681536069494
         ],
         "y": [
          89.0285784874381
         ],
         "z": [
          0
         ]
        },
        {
         "line": {
          "color": "orange",
          "width": 2
         },
         "mode": "lines",
         "type": "scatter3d",
         "x": [
          197.18681536069494,
          733.2539593489788,
          null
         ],
         "y": [
          89.0285784874381,
          309.8326094936215,
          null
         ],
         "z": [
          0,
          154.5237749592759,
          null
         ]
        },
        {
         "colorscale": [
          [
           0,
           "orange"
          ],
          [
           1,
           "orange"
          ]
         ],
         "showlegend": false,
         "showscale": false,
         "type": "cone",
         "u": [
          160.82014319648516
         ],
         "v": [
          66.24120930185501
         ],
         "w": [
          46.35713248778277
         ],
         "x": [
          722.5326164692132
         ],
         "y": [
          305.4165288734978
         ],
         "z": [
          151.43329946009038
         ]
        },
        {
         "marker": {
          "color": "orange",
          "size": 5
         },
         "mode": "markers+text",
         "type": "scatter3d",
         "x": [
          197.18681536069494
         ],
         "y": [
          89.0285784874381
         ],
         "z": [
          0
         ]
        },
        {
         "line": {
          "color": "orange",
          "width": 2
         },
         "mode": "lines",
         "type": "scatter3d",
         "x": [
          197.18681536069494,
          -0.30433374717466677,
          null
         ],
         "y": [
          89.0285784874381,
          534.4652228810374,
          null
         ],
         "z": [
          0,
          350.1191823585554,
          null
         ]
        },
        {
         "colorscale": [
          [
           0,
           "orange"
          ],
          [
           1,
           "orange"
          ]
         ],
         "showlegend": false,
         "showscale": false,
         "type": "cone",
         "u": [
          -59.24734473236088
         ],
         "v": [
          133.6309933180798
         ],
         "w": [
          105.03575470756662
         ],
         "x": [
          3.6454892349827333
         ],
         "y": [
          525.5564899931654
         ],
         "z": [
          343.1167987113843
         ]
        },
        {
         "marker": {
          "color": "orange",
          "size": 5
         },
         "mode": "markers+text",
         "type": "scatter3d",
         "x": [
          197.18681536069494
         ],
         "y": [
          89.0285784874381
         ],
         "z": [
          0
         ]
        },
        {
         "line": {
          "color": "orange",
          "width": 2
         },
         "mode": "lines",
         "type": "scatter3d",
         "x": [
          197.18681536069494,
          -326.37901318236766,
          null
         ],
         "y": [
          89.0285784874381,
          -159.97187563735147,
          null
         ],
         "z": [
          0,
          154.5237749592759,
          null
         ]
        },
        {
         "colorscale": [
          [
           0,
           "orange"
          ],
          [
           1,
           "orange"
          ]
         ],
         "showlegend": false,
         "showscale": false,
         "type": "cone",
         "u": [
          -157.06974856291876
         ],
         "v": [
          -74.70013623743687
         ],
         "w": [
          46.35713248778277
         ],
         "x": [
          -315.90769661150637
         ],
         "y": [
          -154.99186655485568
         ],
         "z": [
          151.43329946009038
         ]
        },
        {
         "marker": {
          "color": "orange",
          "size": 5
         },
         "mode": "markers+text",
         "text": "0d",
         "type": "scatter3d",
         "x": [
          308.00773336575537
         ],
         "y": [
          -160.9253970085974
         ],
         "z": [
          123.45741883841151
         ]
        },
        {
         "marker": {
          "color": "orange",
          "size": 5
         },
         "mode": "markers+text",
         "text": "1d",
         "type": "scatter3d",
         "x": [
          733.2539593489788
         ],
         "y": [
          309.8326094936215
         ],
         "z": [
          154.5237749592759
         ]
        },
        {
         "marker": {
          "color": "orange",
          "size": 5
         },
         "mode": "markers+text",
         "text": "2d",
         "type": "scatter3d",
         "x": [
          98.44124080676013
         ],
         "y": [
          311.74690068423774
         ],
         "z": [
          175.0595911792777
         ]
        },
        {
         "marker": {
          "color": "orange",
          "size": 5
         },
         "mode": "markers+text",
         "text": "3d",
         "type": "scatter3d",
         "x": [
          -326.37901318236766
         ],
         "y": [
          -159.97187563735147
         ],
         "z": [
          154.5237749592759
         ]
        },
        {
         "marker": {
          "color": "gray",
          "size": 5
         },
         "mode": "markers+text",
         "type": "scatter3d",
         "x": [
          197.18681536069494
         ],
         "y": [
          89.0285784874381
         ],
         "z": [
          0
         ]
        },
        {
         "line": {
          "color": "gray",
          "width": 2
         },
         "mode": "lines",
         "type": "scatter3d",
         "x": [
          197.18681536069494,
          -44.79972642342827,
          null
         ],
         "y": [
          89.0285784874381,
          634.8235351103126,
          null
         ],
         "z": [
          0,
          59.58505618353711,
          null
         ]
        },
        {
         "colorscale": [
          [
           0,
           "gray"
          ],
          [
           1,
           "gray"
          ]
         ],
         "showlegend": false,
         "showscale": false,
         "type": "cone",
         "u": [
          -72.59596253523696
         ],
         "v": [
          163.73848698686234
         ],
         "w": [
          17.875516855061132
         ],
         "x": [
          -39.959995587745794
         ],
         "y": [
          623.9076359778551
         ],
         "z": [
          58.393355059866366
         ]
        },
        {
         "marker": {
          "color": "orange",
          "size": 5
         },
         "mode": "markers+text",
         "text": "LMC_0",
         "type": "scatter3d",
         "x": [
          197.18681536069494
         ],
         "y": [
          89.0285784874381
         ],
         "z": [
          0
         ]
        },
        {
         "marker": {
          "color": "orange",
          "size": 5
         },
         "mode": "markers+text",
         "type": "scatter3d",
         "x": [
          128.71503886341915
         ],
         "y": [
          188.48024459109376
         ],
         "z": [
          0
         ]
        },
        {
         "line": {
          "color": "orange",
          "width": 2
         },
         "mode": "lines",
         "type": "scatter3d",
         "x": [
          128.71503886341915,
          475.8424112457377,
          null
         ],
         "y": [
          188.48024459109376,
          19.104726509782154,
          null
         ],
         "z": [
          0,
          459.1454249120146,
          null
         ]
        },
        {
         "colorscale": [
          [
           0,
           "orange"
          ],
          [
           1,
           "orange"
          ]
         ],
         "showlegend": false,
         "showscale": false,
         "type": "cone",
         "u": [
          104.13821171469556
         ],
         "v": [
          -50.81265542439348
         ],
         "w": [
          137.7436274736044
         ],
         "x": [
          468.89986379809125
         ],
         "y": [
          22.49223687140838
         ],
         "z": [
          449.9625164137743
         ]
        },
        {
         "marker": {
          "color": "orange",
          "size": 5
         },
         "mode": "markers+text",
         "type": "scatter3d",
         "x": [
          128.71503886341915
         ],
         "y": [
          188.48024459109376
         ],
         "z": [
          0
         ]
        },
        {
         "line": {
          "color": "orange",
          "width": 2
         },
         "mode": "lines",
         "type": "scatter3d",
         "x": [
          128.71503886341915,
          335.290417105959,
          null
         ],
         "y": [
          188.48024459109376,
          732.5508795051769,
          null
         ],
         "z": [
          0,
          145.99231941488574,
          null
         ]
        },
        {
         "colorscale": [
          [
           0,
           "orange"
          ],
          [
           1,
           "orange"
          ]
         ],
         "showlegend": false,
         "showscale": false,
         "type": "cone",
         "u": [
          61.97261347276196
         ],
         "v": [
          163.22119047422493
         ],
         "w": [
          43.79769582446572
         ],
         "x": [
          331.1589095411082
         ],
         "y": [
          721.6694668068952
         ],
         "z": [
          143.07247302658803
         ]
        },
        {
         "marker": {
          "color": "orange",
          "size": 5
         },
         "mode": "markers+text",
         "type": "scatter3d",
         "x": [
          128.71503886341915
         ],
         "y": [
          188.48024459109376
         ],
         "z": [
          0
         ]
        },
        {
         "line": {
          "color": "orange",
          "width": 2
         },
         "mode": "lines",
         "type": "scatter3d",
         "x": [
          128.71503886341915,
          -402.20909011605124,
          null
         ],
         "y": [
          188.48024459109376,
          447.53659267050966,
          null
         ],
         "z": [
          0,
          104.92558213870974,
          null
         ]
        },
        {
         "colorscale": [
          [
           0,
           "orange"
          ],
          [
           1,
           "orange"
          ]
         ],
         "showlegend": false,
         "showscale": false,
         "type": "cone",
         "u": [
          -159.27723869384113
         ],
         "v": [
          77.71690442382477
         ],
         "w": [
          31.47767464161292
         ],
         "x": [
          -391.5906075364618
         ],
         "y": [
          442.3554657089213
         ],
         "z": [
          102.82707049593554
         ]
        },
        {
         "marker": {
          "color": "orange",
          "size": 5
         },
         "mode": "markers+text",
         "type": "scatter3d",
         "x": [
          128.71503886341915
         ],
         "y": [
          188.48024459109376
         ],
         "z": [
          0
         ]
        },
        {
         "line": {
          "color": "orange",
          "width": 2
         },
         "mode": "lines",
         "type": "scatter3d",
         "x": [
          128.71503886341915,
          -173.00054144995138,
          null
         ],
         "y": [
          188.48024459109376,
          -309.1681767547677,
          null
         ],
         "z": [
          0,
          145.99231941488574,
          null
         ]
        },
        {
         "colorscale": [
          [
           0,
           "orange"
          ],
          [
           1,
           "orange"
          ]
         ],
         "showlegend": false,
         "showscale": false,
         "type": "cone",
         "u": [
          -90.51467409401116
         ],
         "v": [
          -149.29452640375845
         ],
         "w": [
          43.79769582446572
         ],
         "x": [
          -166.96622984368398
         ],
         "y": [
          -299.21520832785046
         ],
         "z": [
          143.07247302658803
         ]
        },
        {
         "marker": {
          "color": "orange",
          "size": 5
         },
         "mode": "markers+text",
         "text": "0d",
         "type": "scatter3d",
         "x": [
          302.27872505457844
         ],
         "y": [
          103.79248555043796
         ],
         "z": [
          229.5727124560073
         ]
        },
        {
         "marker": {
          "color": "orange",
          "size": 5
         },
         "mode": "markers+text",
         "text": "1d",
         "type": "scatter3d",
         "x": [
          335.290417105959
         ],
         "y": [
          732.5508795051769
         ],
         "z": [
          145.99231941488574
         ]
        },
        {
         "marker": {
          "color": "orange",
          "size": 5
         },
         "mode": "markers+text",
         "text": "2d",
         "type": "scatter3d",
         "x": [
          -136.74702562631606
         ],
         "y": [
          318.0084186308017
         ],
         "z": [
          52.46279106935487
         ]
        },
        {
         "marker": {
          "color": "orange",
          "size": 5
         },
         "mode": "markers+text",
         "text": "3d",
         "type": "scatter3d",
         "x": [
          -173.00054144995138
         ],
         "y": [
          -309.1681767547677
         ],
         "z": [
          145.99231941488574
         ]
        },
        {
         "marker": {
          "color": "gray",
          "size": 5
         },
         "mode": "markers+text",
         "type": "scatter3d",
         "x": [
          128.71503886341915
         ],
         "y": [
          188.48024459109376
         ],
         "z": [
          0
         ]
        },
        {
         "line": {
          "color": "gray",
          "width": 2
         },
         "mode": "lines",
         "type": "scatter3d",
         "x": [
          128.71503886341915,
          -378.22823181016486,
          null
         ],
         "y": [
          188.48024459109376,
          435.8354978484035,
          null
         ],
         "z": [
          0,
          -204.50892157747444,
          null
         ]
        },
        {
         "colorscale": [
          [
           0,
           "gray"
          ],
          [
           1,
           "gray"
          ]
         ],
         "showlegend": false,
         "showscale": false,
         "type": "cone",
         "u": [
          -152.08298120207522
         ],
         "v": [
          74.20657597719293
         ],
         "w": [
          -61.352676473242326
         ],
         "x": [
          -368.0893663966932
         ],
         "y": [
          430.88839278325736
         ],
         "z": [
          -200.41874314592494
         ]
        },
        {
         "marker": {
          "color": "orange",
          "size": 5
         },
         "mode": "markers+text",
         "text": "LMC_1",
         "type": "scatter3d",
         "x": [
          128.71503886341915
         ],
         "y": [
          188.48024459109376
         ],
         "z": [
          0
         ]
        },
        {
         "marker": {
          "color": "orange",
          "size": 5
         },
         "mode": "markers+text",
         "type": "scatter3d",
         "x": [
          151.883887238778
         ],
         "y": [
          368.5143514133191
         ],
         "z": [
          0
         ]
        },
        {
         "line": {
          "color": "orange",
          "width": 2
         },
         "mode": "lines",
         "type": "scatter3d",
         "x": [
          151.883887238778,
          728.8351354759686,
          null
         ],
         "y": [
          368.5143514133191,
          204.31237820967675,
          null
         ],
         "z": [
          0,
          -12.844031827195522,
          null
         ]
        },
        {
         "colorscale": [
          [
           0,
           "orange"
          ],
          [
           1,
           "orange"
          ]
         ],
         "showlegend": false,
         "showscale": false,
         "type": "cone",
         "u": [
          173.08537447115717
         ],
         "v": [
          -49.26059196109271
         ],
         "w": [
          -3.8532095481586564
         ],
         "x": [
          717.2961105112248
         ],
         "y": [
          207.5964176737496
         ],
         "z": [
          -12.587151190651612
         ]
        },
        {
         "marker": {
          "color": "orange",
          "size": 5
         },
         "mode": "markers+text",
         "type": "scatter3d",
         "x": [
          151.883887238778
         ],
         "y": [
          368.5143514133191
         ],
         "z": [
          0
         ]
        },
        {
         "line": {
          "color": "orange",
          "width": 2
         },
         "mode": "lines",
         "type": "scatter3d",
         "x": [
          151.883887238778,
          387.9591058805231,
          null
         ],
         "y": [
          368.5143514133191,
          903.8968444223892,
          null
         ],
         "z": [
          0,
          132.7933632477365,
          null
         ]
        },
        {
         "colorscale": [
          [
           0,
           "orange"
          ],
          [
           1,
           "orange"
          ]
         ],
         "showlegend": false,
         "showscale": false,
         "type": "cone",
         "u": [
          70.82256559252353
         ],
         "v": [
          160.61474790272104
         ],
         "w": [
          39.83800897432095
         ],
         "x": [
          383.23760150768817
         ],
         "y": [
          893.1891945622078
         ],
         "z": [
          130.13749598278176
         ]
        },
        {
         "marker": {
          "color": "orange",
          "size": 5
         },
         "mode": "markers+text",
         "type": "scatter3d",
         "x": [
          151.883887238778
         ],
         "y": [
          368.5143514133191
         ],
         "z": [
          0
         ]
        },
        {
         "line": {
          "color": "orange",
          "width": 2
         },
         "mode": "lines",
         "type": "scatter3d",
         "x": [
          151.883887238778,
          -125.89332283629679,
          null
         ],
         "y": [
          368.5143514133191,
          447.5705388202984,
          null
         ],
         "z": [
          0,
          525.9181883102926,
          null
         ]
        },
        {
         "colorscale": [
          [
           0,
           "orange"
          ],
          [
           1,
           "orange"
          ]
         ],
         "showlegend": false,
         "showscale": false,
         "type": "cone",
         "u": [
          -83.33316302252243
         ],
         "v": [
          23.716856222093785
         ],
         "w": [
          157.77545649308777
         ],
         "x": [
          -120.33777863479528
         ],
         "y": [
          445.9894150721588
         ],
         "z": [
          515.3998245440868
         ]
        },
        {
         "marker": {
          "color": "orange",
          "size": 5
         },
         "mode": "markers+text",
         "type": "scatter3d",
         "x": [
          151.883887238778
         ],
         "y": [
          368.5143514133191
         ],
         "z": [
          0
         ]
        },
        {
         "line": {
          "color": "orange",
          "width": 2
         },
         "mode": "lines",
         "type": "scatter3d",
         "x": [
          151.883887238778,
          70.6725463502007,
          null
         ],
         "y": [
          368.5143514133191,
          -210.94284354454317,
          null
         ],
         "z": [
          0,
          132.79336324773652,
          null
         ]
        },
        {
         "colorscale": [
          [
           0,
           "orange"
          ],
          [
           1,
           "orange"
          ]
         ],
         "showlegend": false,
         "showscale": false,
         "type": "cone",
         "u": [
          -24.363402266573186
         ],
         "v": [
          -173.83715848735866
         ],
         "w": [
          39.83800897432096
         ],
         "x": [
          72.29677316797225
         ],
         "y": [
          -199.35369964538586
         ],
         "z": [
          130.1374959827818
         ]
        },
        {
         "marker": {
          "color": "orange",
          "size": 5
         },
         "mode": "markers+text",
         "text": "0d",
         "type": "scatter3d",
         "x": [
          440.3595113573733
         ],
         "y": [
          286.4133648114979
         ],
         "z": [
          -6.422015913597761
         ]
        },
        {
         "marker": {
          "color": "orange",
          "size": 5
         },
         "mode": "markers+text",
         "text": "1d",
         "type": "scatter3d",
         "x": [
          387.9591058805231
         ],
         "y": [
          903.8968444223892
         ],
         "z": [
          132.7933632477365
         ]
        },
        {
         "marker": {
          "color": "orange",
          "size": 5
         },
         "mode": "markers+text",
         "text": "2d",
         "type": "scatter3d",
         "x": [
          12.995282201240599
         ],
         "y": [
          408.0424451168087
         ],
         "z": [
          262.9590941551463
         ]
        },
        {
         "marker": {
          "color": "orange",
          "size": 5
         },
         "mode": "markers+text",
         "text": "3d",
         "type": "scatter3d",
         "x": [
          70.6725463502007
         ],
         "y": [
          -210.94284354454317
         ],
         "z": [
          132.79336324773652
         ]
        },
        {
         "marker": {
          "color": "gray",
          "size": 5
         },
         "mode": "markers+text",
         "type": "scatter3d",
         "x": [
          151.883887238778
         ],
         "y": [
          368.5143514133191
         ],
         "z": [
          0
         ]
        },
        {
         "line": {
          "color": "gray",
          "width": 2
         },
         "mode": "lines",
         "type": "scatter3d",
         "x": [
          151.883887238778,
          -341.5938182518422,
          null
         ],
         "y": [
          368.5143514133191,
          508.9595159244347,
          null
         ],
         "z": [
          0,
          311.05451282557914,
          null
         ]
        },
        {
         "colorscale": [
          [
           0,
           "gray"
          ],
          [
           1,
           "gray"
          ]
         ],
         "showlegend": false,
         "showscale": false,
         "type": "cone",
         "u": [
          -148.04331164718607
         ],
         "v": [
          42.13354935333468
         ],
         "w": [
          93.31635384767374
         ],
         "x": [
          -331.7242641420298
         ],
         "y": [
          506.1506126342124
         ],
         "z": [
          304.8334225690675
         ]
        },
        {
         "marker": {
          "color": "orange",
          "size": 5
         },
         "mode": "markers+text",
         "text": "LMC_2",
         "type": "scatter3d",
         "x": [
          151.883887238778
         ],
         "y": [
          368.5143514133191
         ],
         "z": [
          0
         ]
        },
        {
         "marker": {
          "color": "orange",
          "size": 5
         },
         "mode": "markers+text",
         "type": "scatter3d",
         "x": [
          -2.380617920863484
         ],
         "y": [
          17.75738733227751
         ],
         "z": [
          0
         ]
        },
        {
         "line": {
          "color": "orange",
          "width": 2
         },
         "mode": "lines",
         "type": "scatter3d",
         "x": [
          -2.380617920863484,
          589.9955873537992,
          null
         ],
         "y": [
          17.75738733227751,
          -77.54686057434333,
          null
         ],
         "z": [
          0,
          -2.7444043696109826,
          null
         ]
        },
        {
         "colorscale": [
          [
           0,
           "orange"
          ],
          [
           1,
           "orange"
          ]
         ],
         "showlegend": false,
         "showscale": false,
         "type": "cone",
         "u": [
          177.71286158239883
         ],
         "v": [
          -28.591274371986252
         ],
         "w": [
          -0.8233213108832947
         ],
         "x": [
          578.148063248306
         ],
         "y": [
          -75.6407756162109
         ],
         "z": [
          -2.689516282218763
         ]
        },
        {
         "marker": {
          "color": "orange",
          "size": 5
         },
         "mode": "markers+text",
         "type": "scatter3d",
         "x": [
          -2.380617920863484
         ],
         "y": [
          17.75738733227751
         ],
         "z": [
          0
         ]
        },
        {
         "line": {
          "color": "orange",
          "width": 2
         },
         "mode": "lines",
         "type": "scatter3d",
         "x": [
          -2.380617920863484,
          166.94363296078203,
          null
         ],
         "y": [
          17.75738733227751,
          577.523860987583,
          null
         ],
         "z": [
          0,
          134.12976192804413,
          null
         ]
        },
        {
         "colorscale": [
          [
           0,
           "orange"
          ],
          [
           1,
           "orange"
          ]
         ],
         "showlegend": false,
         "showscale": false,
         "type": "cone",
         "u": [
          50.79727526449365
         ],
         "v": [
          167.92994209659165
         ],
         "w": [
          40.23892857841324
         ],
         "x": [
          163.55714794314912
         ],
         "y": [
          566.3285315144769
         ],
         "z": [
          131.44716668948325
         ]
        },
        {
         "marker": {
          "color": "orange",
          "size": 5
         },
         "mode": "markers+text",
         "type": "scatter3d",
         "x": [
          -2.380617920863484
         ],
         "y": [
          17.75738733227751
         ],
         "z": [
          0
         ]
        },
        {
         "line": {
          "color": "orange",
          "width": 2
         },
         "mode": "lines",
         "type": "scatter3d",
         "x": [
          -2.380617920863484,
          -296.2221715342641,
          null
         ],
         "y": [
          17.75738733227751,
          65.03198752972058,
          null
         ],
         "z": [
          0,
          520.982008850819,
          null
         ]
        },
        {
         "colorscale": [
          [
           0,
           "orange"
          ],
          [
           1,
           "orange"
          ]
         ],
         "showlegend": false,
         "showscale": false,
         "type": "cone",
         "u": [
          -88.15246608402018
         ],
         "v": [
          14.182380059232921
         ],
         "w": [
          156.2946026552457
         ],
         "x": [
          -290.34534046199605
         ],
         "y": [
          64.08649552577171
         ],
         "z": [
          510.56236867380267
         ]
        },
        {
         "marker": {
          "color": "orange",
          "size": 5
         },
         "mode": "markers+text",
         "type": "scatter3d",
         "x": [
          -2.380617920863484
         ],
         "y": [
          17.75738733227751
         ],
         "z": [
          0
         ]
        },
        {
         "line": {
          "color": "orange",
          "width": 2
         },
         "mode": "lines",
         "type": "scatter3d",
         "x": [
          -2.380617920863484,
          -17.17196185654585,
          null
         ],
         "y": [
          17.75738733227751,
          -566.8710614364277,
          null
         ],
         "z": [
          0,
          134.1297619280441,
          null
         ]
        },
        {
         "colorscale": [
          [
           0,
           "orange"
          ],
          [
           1,
           "orange"
          ]
         ],
         "showlegend": false,
         "showscale": false,
         "type": "cone",
         "u": [
          -4.43740318070471
         ],
         "v": [
          -175.38853463061156
         ],
         "w": [
          40.23892857841323
         ],
         "x": [
          -16.8761349778322
         ],
         "y": [
          -555.1784924610536
         ],
         "z": [
          131.44716668948323
         ]
        },
        {
         "marker": {
          "color": "orange",
          "size": 5
         },
         "mode": "markers+text",
         "text": "0d",
         "type": "scatter3d",
         "x": [
          293.8074847164679
         ],
         "y": [
          -29.894736621032905
         ],
         "z": [
          -1.3722021848054913
         ]
        },
        {
         "marker": {
          "color": "orange",
          "size": 5
         },
         "mode": "markers+text",
         "text": "1d",
         "type": "scatter3d",
         "x": [
          166.94363296078203
         ],
         "y": [
          577.523860987583
         ],
         "z": [
          134.12976192804413
         ]
        },
        {
         "marker": {
          "color": "orange",
          "size": 5
         },
         "mode": "markers+text",
         "text": "2d",
         "type": "scatter3d",
         "x": [
          -149.30139472756377
         ],
         "y": [
          41.39468743099904
         ],
         "z": [
          260.4910044254095
         ]
        },
        {
         "marker": {
          "color": "orange",
          "size": 5
         },
         "mode": "markers+text",
         "text": "3d",
         "type": "scatter3d",
         "x": [
          -17.17196185654585
         ],
         "y": [
          -566.8710614364277
         ],
         "z": [
          134.1297619280441
         ]
        },
        {
         "marker": {
          "color": "gray",
          "size": 5
         },
         "mode": "markers+text",
         "type": "scatter3d",
         "x": [
          -2.380617920863484
         ],
         "y": [
          17.75738733227751
         ],
         "z": [
          0
         ]
        },
        {
         "line": {
          "color": "gray",
          "width": 2
         },
         "mode": "lines",
         "type": "scatter3d",
         "x": [
          -2.380617920863484,
          -514.0386795755137,
          null
         ],
         "y": [
          17.75738733227751,
          100.07532366590556,
          null
         ],
         "z": [
          0,
          302.3735856545325,
          null
         ]
        },
        {
         "colorscale": [
          [
           0,
           "gray"
          ],
          [
           1,
           "gray"
          ]
         ],
         "showlegend": false,
         "showscale": false,
         "type": "cone",
         "u": [
          -153.49741849639506
         ],
         "v": [
          24.695380900088413
         ],
         "w": [
          90.71207569635975
         ],
         "x": [
          -503.80551834242067
         ],
         "y": [
          98.428964939233
         ],
         "z": [
          296.32611394144186
         ]
        },
        {
         "marker": {
          "color": "orange",
          "size": 5
         },
         "mode": "markers+text",
         "text": "LMC_3",
         "type": "scatter3d",
         "x": [
          -2.380617920863484
         ],
         "y": [
          17.75738733227751
         ],
         "z": [
          0
         ]
        },
        {
         "marker": {
          "color": "blue",
          "size": 5
         },
         "mode": "markers+text",
         "text": [
          0,
          1,
          2,
          3,
          4,
          5,
          6,
          7,
          8,
          9,
          10,
          11,
          12,
          13,
          14,
          15,
          16,
          17,
          18,
          19,
          20,
          21,
          22,
          23,
          24,
          25
         ],
         "type": "scatter3d",
         "x": [
          146.021271,
          64.913452,
          30.547209,
          13.930209,
          3.429539,
          55.317833,
          50.201351,
          44.519241,
          38.734299,
          73.92041,
          72.518295,
          68.983948,
          65.122353,
          95.303505,
          102.852295,
          105.731857,
          106.333076,
          101.414566,
          111.162796,
          122.032127,
          129.104889,
          131.967133
         ],
         "y": [
          -236.74716199999995,
          21.858574000000047,
          58.98228100000005,
          81.43793500000004,
          97.05516800000004,
          93.53913900000005,
          122.36477700000005,
          140.48823500000006,
          152.08926400000004,
          95.27985400000004,
          129.15840100000005,
          151.48281900000006,
          164.05455000000003,
          90.56539200000005,
          122.85159300000004,
          140.30993700000005,
          152.55299400000004,
          29.966721000000046,
          80.52671100000005,
          99.89927700000004,
          113.83253500000004,
          123.89694200000004
         ],
         "z": [
          256.54437300000006,
          215.641891,
          212.836624,
          208.94840999999997,
          205.03225699999996,
          210.07475299999996,
          208.51519799999997,
          202.57232699999997,
          193.52703899999997,
          209.40609699999996,
          206.23629799999998,
          198.49276699999996,
          189.16439799999998,
          205.84558099999998,
          202.69534299999998,
          197.41216999999997,
          189.88087499999997,
          215.373566,
          200.77082799999997,
          197.77571099999997,
          192.24427799999998,
          185.49743699999996
         ]
        },
        {
         "marker": {
          "color": "blue",
          "size": 5
         },
         "mode": "markers+text",
         "text": [
          0,
          1,
          2,
          3,
          4,
          5,
          6,
          7,
          8,
          9,
          10,
          11,
          12,
          13,
          14,
          15,
          16,
          17,
          18,
          19,
          20,
          21,
          22,
          23,
          24,
          25
         ],
         "type": "scatter3d",
         "x": [
          146.021271,
          64.913452,
          30.547209,
          13.930209,
          3.429539,
          55.317833,
          50.201351,
          44.519241,
          38.734299,
          73.92041,
          72.518295,
          68.983948,
          65.122353,
          95.303505,
          102.852295,
          105.731857,
          106.333076,
          101.414566,
          111.162796,
          122.032127,
          129.104889,
          131.967133
         ],
         "y": [
          -236.74716199999995,
          21.858574000000047,
          58.98228100000005,
          81.43793500000004,
          97.05516800000004,
          93.53913900000005,
          122.36477700000005,
          140.48823500000006,
          152.08926400000004,
          95.27985400000004,
          129.15840100000005,
          151.48281900000006,
          164.05455000000003,
          90.56539200000005,
          122.85159300000004,
          140.30993700000005,
          152.55299400000004,
          29.966721000000046,
          80.52671100000005,
          99.89927700000004,
          113.83253500000004,
          123.89694200000004
         ],
         "z": [
          256.54437300000006,
          215.641891,
          212.836624,
          208.94840999999997,
          205.03225699999996,
          210.07475299999996,
          208.51519799999997,
          202.57232699999997,
          193.52703899999997,
          209.40609699999996,
          206.23629799999998,
          198.49276699999996,
          189.16439799999998,
          205.84558099999998,
          202.69534299999998,
          197.41216999999997,
          189.88087499999997,
          215.373566,
          200.77082799999997,
          197.77571099999997,
          192.24427799999998,
          185.49743699999996
         ]
        },
        {
         "marker": {
          "color": "blue",
          "size": 5
         },
         "mode": "markers+text",
         "text": [
          0,
          1,
          2,
          3,
          4,
          5,
          6,
          7,
          8,
          9,
          10,
          11,
          12,
          13,
          14,
          15,
          16,
          17,
          18,
          19,
          20,
          21,
          22,
          23,
          24,
          25
         ],
         "type": "scatter3d",
         "x": [
          146.021271,
          64.913452,
          30.547209,
          13.930209,
          3.429539,
          55.317833,
          50.201351,
          44.519241,
          38.734299,
          73.92041,
          72.518295,
          68.983948,
          65.122353,
          95.303505,
          102.852295,
          105.731857,
          106.333076,
          101.414566,
          111.162796,
          122.032127,
          129.104889,
          131.967133
         ],
         "y": [
          -236.74716199999995,
          21.858574000000047,
          58.98228100000005,
          81.43793500000004,
          97.05516800000004,
          93.53913900000005,
          122.36477700000005,
          140.48823500000006,
          152.08926400000004,
          95.27985400000004,
          129.15840100000005,
          151.48281900000006,
          164.05455000000003,
          90.56539200000005,
          122.85159300000004,
          140.30993700000005,
          152.55299400000004,
          29.966721000000046,
          80.52671100000005,
          99.89927700000004,
          113.83253500000004,
          123.89694200000004
         ],
         "z": [
          256.54437300000006,
          215.641891,
          212.836624,
          208.94840999999997,
          205.03225699999996,
          210.07475299999996,
          208.51519799999997,
          202.57232699999997,
          193.52703899999997,
          209.40609699999996,
          206.23629799999998,
          198.49276699999996,
          189.16439799999998,
          205.84558099999998,
          202.69534299999998,
          197.41216999999997,
          189.88087499999997,
          215.373566,
          200.77082799999997,
          197.77571099999997,
          192.24427799999998,
          185.49743699999996
         ]
        },
        {
         "marker": {
          "color": "blue",
          "size": 5
         },
         "mode": "markers+text",
         "text": [
          0,
          1,
          2,
          3,
          4,
          5,
          6,
          7,
          8,
          9,
          10,
          11,
          12,
          13,
          14,
          15,
          16,
          17,
          18,
          19,
          20,
          21,
          22,
          23,
          24,
          25
         ],
         "type": "scatter3d",
         "x": [
          146.021271,
          64.913452,
          30.547209,
          13.930209,
          3.429539,
          55.317833,
          50.201351,
          44.519241,
          38.734299,
          73.92041,
          72.518295,
          68.983948,
          65.122353,
          95.303505,
          102.852295,
          105.731857,
          106.333076,
          101.414566,
          111.162796,
          122.032127,
          129.104889,
          131.967133
         ],
         "y": [
          -236.74716199999995,
          21.858574000000047,
          58.98228100000005,
          81.43793500000004,
          97.05516800000004,
          93.53913900000005,
          122.36477700000005,
          140.48823500000006,
          152.08926400000004,
          95.27985400000004,
          129.15840100000005,
          151.48281900000006,
          164.05455000000003,
          90.56539200000005,
          122.85159300000004,
          140.30993700000005,
          152.55299400000004,
          29.966721000000046,
          80.52671100000005,
          99.89927700000004,
          113.83253500000004,
          123.89694200000004
         ],
         "z": [
          256.54437300000006,
          215.641891,
          212.836624,
          208.94840999999997,
          205.03225699999996,
          210.07475299999996,
          208.51519799999997,
          202.57232699999997,
          193.52703899999997,
          209.40609699999996,
          206.23629799999998,
          198.49276699999996,
          189.16439799999998,
          205.84558099999998,
          202.69534299999998,
          197.41216999999997,
          189.88087499999997,
          215.373566,
          200.77082799999997,
          197.77571099999997,
          192.24427799999998,
          185.49743699999996
         ]
        },
        {
         "marker": {
          "color": "blue",
          "size": 5
         },
         "mode": "markers+text",
         "text": [
          0,
          1,
          2,
          3,
          4,
          5,
          6,
          7,
          8,
          9,
          10,
          11,
          12,
          13,
          14,
          15,
          16,
          17,
          18,
          19,
          20,
          21,
          22,
          23,
          24,
          25
         ],
         "type": "scatter3d",
         "x": [
          146.021271,
          64.913452,
          30.547209,
          13.930209,
          3.429539,
          55.317833,
          50.201351,
          44.519241,
          38.734299,
          73.92041,
          72.518295,
          68.983948,
          65.122353,
          95.303505,
          102.852295,
          105.731857,
          106.333076,
          101.414566,
          111.162796,
          122.032127,
          129.104889,
          131.967133
         ],
         "y": [
          -236.74716199999995,
          21.858574000000047,
          58.98228100000005,
          81.43793500000004,
          97.05516800000004,
          93.53913900000005,
          122.36477700000005,
          140.48823500000006,
          152.08926400000004,
          95.27985400000004,
          129.15840100000005,
          151.48281900000006,
          164.05455000000003,
          90.56539200000005,
          122.85159300000004,
          140.30993700000005,
          152.55299400000004,
          29.966721000000046,
          80.52671100000005,
          99.89927700000004,
          113.83253500000004,
          123.89694200000004
         ],
         "z": [
          256.54437300000006,
          215.641891,
          212.836624,
          208.94840999999997,
          205.03225699999996,
          210.07475299999996,
          208.51519799999997,
          202.57232699999997,
          193.52703899999997,
          209.40609699999996,
          206.23629799999998,
          198.49276699999996,
          189.16439799999998,
          205.84558099999998,
          202.69534299999998,
          197.41216999999997,
          189.88087499999997,
          215.373566,
          200.77082799999997,
          197.77571099999997,
          192.24427799999998,
          185.49743699999996
         ]
        },
        {
         "marker": {
          "color": "blue",
          "size": 5
         },
         "mode": "markers+text",
         "text": [
          0,
          1,
          2,
          3,
          4,
          5,
          6,
          7,
          8,
          9,
          10,
          11,
          12,
          13,
          14,
          15,
          16,
          17,
          18,
          19,
          20,
          21,
          22,
          23,
          24,
          25
         ],
         "type": "scatter3d",
         "x": [
          146.021271,
          64.913452,
          30.547209,
          13.930209,
          3.429539,
          55.317833,
          50.201351,
          44.519241,
          38.734299,
          73.92041,
          72.518295,
          68.983948,
          65.122353,
          95.303505,
          102.852295,
          105.731857,
          106.333076,
          101.414566,
          111.162796,
          122.032127,
          129.104889,
          131.967133
         ],
         "y": [
          -236.74716199999995,
          21.858574000000047,
          58.98228100000005,
          81.43793500000004,
          97.05516800000004,
          93.53913900000005,
          122.36477700000005,
          140.48823500000006,
          152.08926400000004,
          95.27985400000004,
          129.15840100000005,
          151.48281900000006,
          164.05455000000003,
          90.56539200000005,
          122.85159300000004,
          140.30993700000005,
          152.55299400000004,
          29.966721000000046,
          80.52671100000005,
          99.89927700000004,
          113.83253500000004,
          123.89694200000004
         ],
         "z": [
          256.54437300000006,
          215.641891,
          212.836624,
          208.94840999999997,
          205.03225699999996,
          210.07475299999996,
          208.51519799999997,
          202.57232699999997,
          193.52703899999997,
          209.40609699999996,
          206.23629799999998,
          198.49276699999996,
          189.16439799999998,
          205.84558099999998,
          202.69534299999998,
          197.41216999999997,
          189.88087499999997,
          215.373566,
          200.77082799999997,
          197.77571099999997,
          192.24427799999998,
          185.49743699999996
         ]
        },
        {
         "marker": {
          "color": "blue",
          "size": 5
         },
         "mode": "markers+text",
         "text": [
          0,
          1,
          2,
          3,
          4,
          5,
          6,
          7,
          8,
          9,
          10,
          11,
          12,
          13,
          14,
          15,
          16,
          17,
          18,
          19,
          20,
          21,
          22,
          23,
          24,
          25
         ],
         "type": "scatter3d",
         "x": [
          146.021271,
          64.913452,
          30.547209,
          13.930209,
          3.429539,
          55.317833,
          50.201351,
          44.519241,
          38.734299,
          73.92041,
          72.518295,
          68.983948,
          65.122353,
          95.303505,
          102.852295,
          105.731857,
          106.333076,
          101.414566,
          111.162796,
          122.032127,
          129.104889,
          131.967133
         ],
         "y": [
          -236.74716199999995,
          21.858574000000047,
          58.98228100000005,
          81.43793500000004,
          97.05516800000004,
          93.53913900000005,
          122.36477700000005,
          140.48823500000006,
          152.08926400000004,
          95.27985400000004,
          129.15840100000005,
          151.48281900000006,
          164.05455000000003,
          90.56539200000005,
          122.85159300000004,
          140.30993700000005,
          152.55299400000004,
          29.966721000000046,
          80.52671100000005,
          99.89927700000004,
          113.83253500000004,
          123.89694200000004
         ],
         "z": [
          256.54437300000006,
          215.641891,
          212.836624,
          208.94840999999997,
          205.03225699999996,
          210.07475299999996,
          208.51519799999997,
          202.57232699999997,
          193.52703899999997,
          209.40609699999996,
          206.23629799999998,
          198.49276699999996,
          189.16439799999998,
          205.84558099999998,
          202.69534299999998,
          197.41216999999997,
          189.88087499999997,
          215.373566,
          200.77082799999997,
          197.77571099999997,
          192.24427799999998,
          185.49743699999996
         ]
        },
        {
         "marker": {
          "color": "blue",
          "size": 5
         },
         "mode": "markers+text",
         "text": [
          0,
          1,
          2,
          3,
          4,
          5,
          6,
          7,
          8,
          9,
          10,
          11,
          12,
          13,
          14,
          15,
          16,
          17,
          18,
          19,
          20,
          21,
          22,
          23,
          24,
          25
         ],
         "type": "scatter3d",
         "x": [
          146.021271,
          64.913452,
          30.547209,
          13.930209,
          3.429539,
          55.317833,
          50.201351,
          44.519241,
          38.734299,
          73.92041,
          72.518295,
          68.983948,
          65.122353,
          95.303505,
          102.852295,
          105.731857,
          106.333076,
          101.414566,
          111.162796,
          122.032127,
          129.104889,
          131.967133
         ],
         "y": [
          -236.74716199999995,
          21.858574000000047,
          58.98228100000005,
          81.43793500000004,
          97.05516800000004,
          93.53913900000005,
          122.36477700000005,
          140.48823500000006,
          152.08926400000004,
          95.27985400000004,
          129.15840100000005,
          151.48281900000006,
          164.05455000000003,
          90.56539200000005,
          122.85159300000004,
          140.30993700000005,
          152.55299400000004,
          29.966721000000046,
          80.52671100000005,
          99.89927700000004,
          113.83253500000004,
          123.89694200000004
         ],
         "z": [
          256.54437300000006,
          215.641891,
          212.836624,
          208.94840999999997,
          205.03225699999996,
          210.07475299999996,
          208.51519799999997,
          202.57232699999997,
          193.52703899999997,
          209.40609699999996,
          206.23629799999998,
          198.49276699999996,
          189.16439799999998,
          205.84558099999998,
          202.69534299999998,
          197.41216999999997,
          189.88087499999997,
          215.373566,
          200.77082799999997,
          197.77571099999997,
          192.24427799999998,
          185.49743699999996
         ]
        },
        {
         "marker": {
          "color": "blue",
          "size": 5
         },
         "mode": "markers+text",
         "text": [
          0,
          1,
          2,
          3,
          4,
          5,
          6,
          7,
          8,
          9,
          10,
          11,
          12,
          13,
          14,
          15,
          16,
          17,
          18,
          19,
          20,
          21,
          22,
          23,
          24,
          25
         ],
         "type": "scatter3d",
         "x": [
          146.021271,
          64.913452,
          30.547209,
          13.930209,
          3.429539,
          55.317833,
          50.201351,
          44.519241,
          38.734299,
          73.92041,
          72.518295,
          68.983948,
          65.122353,
          95.303505,
          102.852295,
          105.731857,
          106.333076,
          101.414566,
          111.162796,
          122.032127,
          129.104889,
          131.967133
         ],
         "y": [
          -236.74716199999995,
          21.858574000000047,
          58.98228100000005,
          81.43793500000004,
          97.05516800000004,
          93.53913900000005,
          122.36477700000005,
          140.48823500000006,
          152.08926400000004,
          95.27985400000004,
          129.15840100000005,
          151.48281900000006,
          164.05455000000003,
          90.56539200000005,
          122.85159300000004,
          140.30993700000005,
          152.55299400000004,
          29.966721000000046,
          80.52671100000005,
          99.89927700000004,
          113.83253500000004,
          123.89694200000004
         ],
         "z": [
          256.54437300000006,
          215.641891,
          212.836624,
          208.94840999999997,
          205.03225699999996,
          210.07475299999996,
          208.51519799999997,
          202.57232699999997,
          193.52703899999997,
          209.40609699999996,
          206.23629799999998,
          198.49276699999996,
          189.16439799999998,
          205.84558099999998,
          202.69534299999998,
          197.41216999999997,
          189.88087499999997,
          215.373566,
          200.77082799999997,
          197.77571099999997,
          192.24427799999998,
          185.49743699999996
         ]
        },
        {
         "marker": {
          "color": "blue",
          "size": 5
         },
         "mode": "markers+text",
         "text": [
          0,
          1,
          2,
          3,
          4,
          5,
          6,
          7,
          8,
          9,
          10,
          11,
          12,
          13,
          14,
          15,
          16,
          17,
          18,
          19,
          20,
          21,
          22,
          23,
          24,
          25
         ],
         "type": "scatter3d",
         "x": [
          146.021271,
          64.913452,
          30.547209,
          13.930209,
          3.429539,
          55.317833,
          50.201351,
          44.519241,
          38.734299,
          73.92041,
          72.518295,
          68.983948,
          65.122353,
          95.303505,
          102.852295,
          105.731857,
          106.333076,
          101.414566,
          111.162796,
          122.032127,
          129.104889,
          131.967133
         ],
         "y": [
          -236.74716199999995,
          21.858574000000047,
          58.98228100000005,
          81.43793500000004,
          97.05516800000004,
          93.53913900000005,
          122.36477700000005,
          140.48823500000006,
          152.08926400000004,
          95.27985400000004,
          129.15840100000005,
          151.48281900000006,
          164.05455000000003,
          90.56539200000005,
          122.85159300000004,
          140.30993700000005,
          152.55299400000004,
          29.966721000000046,
          80.52671100000005,
          99.89927700000004,
          113.83253500000004,
          123.89694200000004
         ],
         "z": [
          256.54437300000006,
          215.641891,
          212.836624,
          208.94840999999997,
          205.03225699999996,
          210.07475299999996,
          208.51519799999997,
          202.57232699999997,
          193.52703899999997,
          209.40609699999996,
          206.23629799999998,
          198.49276699999996,
          189.16439799999998,
          205.84558099999998,
          202.69534299999998,
          197.41216999999997,
          189.88087499999997,
          215.373566,
          200.77082799999997,
          197.77571099999997,
          192.24427799999998,
          185.49743699999996
         ]
        }
       ],
       "layout": {
        "height": 1024,
        "scene": {
         "aspectmode": "data",
         "aspectratio": {
          "x": 1,
          "y": 1,
          "z": 1
         },
         "camera": {
          "center": {
           "x": 0,
           "y": 0,
           "z": 0
          },
          "eye": {
           "x": -2,
           "y": -0.5,
           "z": 3
          },
          "up": {
           "x": 0,
           "y": 0,
           "z": 20
          }
         }
        },
        "template": {
         "data": {
          "bar": [
           {
            "error_x": {
             "color": "#2a3f5f"
            },
            "error_y": {
             "color": "#2a3f5f"
            },
            "marker": {
             "line": {
              "color": "#E5ECF6",
              "width": 0.5
             },
             "pattern": {
              "fillmode": "overlay",
              "size": 10,
              "solidity": 0.2
             }
            },
            "type": "bar"
           }
          ],
          "barpolar": [
           {
            "marker": {
             "line": {
              "color": "#E5ECF6",
              "width": 0.5
             },
             "pattern": {
              "fillmode": "overlay",
              "size": 10,
              "solidity": 0.2
             }
            },
            "type": "barpolar"
           }
          ],
          "carpet": [
           {
            "aaxis": {
             "endlinecolor": "#2a3f5f",
             "gridcolor": "white",
             "linecolor": "white",
             "minorgridcolor": "white",
             "startlinecolor": "#2a3f5f"
            },
            "baxis": {
             "endlinecolor": "#2a3f5f",
             "gridcolor": "white",
             "linecolor": "white",
             "minorgridcolor": "white",
             "startlinecolor": "#2a3f5f"
            },
            "type": "carpet"
           }
          ],
          "choropleth": [
           {
            "colorbar": {
             "outlinewidth": 0,
             "ticks": ""
            },
            "type": "choropleth"
           }
          ],
          "contour": [
           {
            "colorbar": {
             "outlinewidth": 0,
             "ticks": ""
            },
            "colorscale": [
             [
              0,
              "#0d0887"
             ],
             [
              0.1111111111111111,
              "#46039f"
             ],
             [
              0.2222222222222222,
              "#7201a8"
             ],
             [
              0.3333333333333333,
              "#9c179e"
             ],
             [
              0.4444444444444444,
              "#bd3786"
             ],
             [
              0.5555555555555556,
              "#d8576b"
             ],
             [
              0.6666666666666666,
              "#ed7953"
             ],
             [
              0.7777777777777778,
              "#fb9f3a"
             ],
             [
              0.8888888888888888,
              "#fdca26"
             ],
             [
              1,
              "#f0f921"
             ]
            ],
            "type": "contour"
           }
          ],
          "contourcarpet": [
           {
            "colorbar": {
             "outlinewidth": 0,
             "ticks": ""
            },
            "type": "contourcarpet"
           }
          ],
          "heatmap": [
           {
            "colorbar": {
             "outlinewidth": 0,
             "ticks": ""
            },
            "colorscale": [
             [
              0,
              "#0d0887"
             ],
             [
              0.1111111111111111,
              "#46039f"
             ],
             [
              0.2222222222222222,
              "#7201a8"
             ],
             [
              0.3333333333333333,
              "#9c179e"
             ],
             [
              0.4444444444444444,
              "#bd3786"
             ],
             [
              0.5555555555555556,
              "#d8576b"
             ],
             [
              0.6666666666666666,
              "#ed7953"
             ],
             [
              0.7777777777777778,
              "#fb9f3a"
             ],
             [
              0.8888888888888888,
              "#fdca26"
             ],
             [
              1,
              "#f0f921"
             ]
            ],
            "type": "heatmap"
           }
          ],
          "heatmapgl": [
           {
            "colorbar": {
             "outlinewidth": 0,
             "ticks": ""
            },
            "colorscale": [
             [
              0,
              "#0d0887"
             ],
             [
              0.1111111111111111,
              "#46039f"
             ],
             [
              0.2222222222222222,
              "#7201a8"
             ],
             [
              0.3333333333333333,
              "#9c179e"
             ],
             [
              0.4444444444444444,
              "#bd3786"
             ],
             [
              0.5555555555555556,
              "#d8576b"
             ],
             [
              0.6666666666666666,
              "#ed7953"
             ],
             [
              0.7777777777777778,
              "#fb9f3a"
             ],
             [
              0.8888888888888888,
              "#fdca26"
             ],
             [
              1,
              "#f0f921"
             ]
            ],
            "type": "heatmapgl"
           }
          ],
          "histogram": [
           {
            "marker": {
             "pattern": {
              "fillmode": "overlay",
              "size": 10,
              "solidity": 0.2
             }
            },
            "type": "histogram"
           }
          ],
          "histogram2d": [
           {
            "colorbar": {
             "outlinewidth": 0,
             "ticks": ""
            },
            "colorscale": [
             [
              0,
              "#0d0887"
             ],
             [
              0.1111111111111111,
              "#46039f"
             ],
             [
              0.2222222222222222,
              "#7201a8"
             ],
             [
              0.3333333333333333,
              "#9c179e"
             ],
             [
              0.4444444444444444,
              "#bd3786"
             ],
             [
              0.5555555555555556,
              "#d8576b"
             ],
             [
              0.6666666666666666,
              "#ed7953"
             ],
             [
              0.7777777777777778,
              "#fb9f3a"
             ],
             [
              0.8888888888888888,
              "#fdca26"
             ],
             [
              1,
              "#f0f921"
             ]
            ],
            "type": "histogram2d"
           }
          ],
          "histogram2dcontour": [
           {
            "colorbar": {
             "outlinewidth": 0,
             "ticks": ""
            },
            "colorscale": [
             [
              0,
              "#0d0887"
             ],
             [
              0.1111111111111111,
              "#46039f"
             ],
             [
              0.2222222222222222,
              "#7201a8"
             ],
             [
              0.3333333333333333,
              "#9c179e"
             ],
             [
              0.4444444444444444,
              "#bd3786"
             ],
             [
              0.5555555555555556,
              "#d8576b"
             ],
             [
              0.6666666666666666,
              "#ed7953"
             ],
             [
              0.7777777777777778,
              "#fb9f3a"
             ],
             [
              0.8888888888888888,
              "#fdca26"
             ],
             [
              1,
              "#f0f921"
             ]
            ],
            "type": "histogram2dcontour"
           }
          ],
          "mesh3d": [
           {
            "colorbar": {
             "outlinewidth": 0,
             "ticks": ""
            },
            "type": "mesh3d"
           }
          ],
          "parcoords": [
           {
            "line": {
             "colorbar": {
              "outlinewidth": 0,
              "ticks": ""
             }
            },
            "type": "parcoords"
           }
          ],
          "pie": [
           {
            "automargin": true,
            "type": "pie"
           }
          ],
          "scatter": [
           {
            "fillpattern": {
             "fillmode": "overlay",
             "size": 10,
             "solidity": 0.2
            },
            "type": "scatter"
           }
          ],
          "scatter3d": [
           {
            "line": {
             "colorbar": {
              "outlinewidth": 0,
              "ticks": ""
             }
            },
            "marker": {
             "colorbar": {
              "outlinewidth": 0,
              "ticks": ""
             }
            },
            "type": "scatter3d"
           }
          ],
          "scattercarpet": [
           {
            "marker": {
             "colorbar": {
              "outlinewidth": 0,
              "ticks": ""
             }
            },
            "type": "scattercarpet"
           }
          ],
          "scattergeo": [
           {
            "marker": {
             "colorbar": {
              "outlinewidth": 0,
              "ticks": ""
             }
            },
            "type": "scattergeo"
           }
          ],
          "scattergl": [
           {
            "marker": {
             "colorbar": {
              "outlinewidth": 0,
              "ticks": ""
             }
            },
            "type": "scattergl"
           }
          ],
          "scattermapbox": [
           {
            "marker": {
             "colorbar": {
              "outlinewidth": 0,
              "ticks": ""
             }
            },
            "type": "scattermapbox"
           }
          ],
          "scatterpolar": [
           {
            "marker": {
             "colorbar": {
              "outlinewidth": 0,
              "ticks": ""
             }
            },
            "type": "scatterpolar"
           }
          ],
          "scatterpolargl": [
           {
            "marker": {
             "colorbar": {
              "outlinewidth": 0,
              "ticks": ""
             }
            },
            "type": "scatterpolargl"
           }
          ],
          "scatterternary": [
           {
            "marker": {
             "colorbar": {
              "outlinewidth": 0,
              "ticks": ""
             }
            },
            "type": "scatterternary"
           }
          ],
          "surface": [
           {
            "colorbar": {
             "outlinewidth": 0,
             "ticks": ""
            },
            "colorscale": [
             [
              0,
              "#0d0887"
             ],
             [
              0.1111111111111111,
              "#46039f"
             ],
             [
              0.2222222222222222,
              "#7201a8"
             ],
             [
              0.3333333333333333,
              "#9c179e"
             ],
             [
              0.4444444444444444,
              "#bd3786"
             ],
             [
              0.5555555555555556,
              "#d8576b"
             ],
             [
              0.6666666666666666,
              "#ed7953"
             ],
             [
              0.7777777777777778,
              "#fb9f3a"
             ],
             [
              0.8888888888888888,
              "#fdca26"
             ],
             [
              1,
              "#f0f921"
             ]
            ],
            "type": "surface"
           }
          ],
          "table": [
           {
            "cells": {
             "fill": {
              "color": "#EBF0F8"
             },
             "line": {
              "color": "white"
             }
            },
            "header": {
             "fill": {
              "color": "#C8D4E3"
             },
             "line": {
              "color": "white"
             }
            },
            "type": "table"
           }
          ]
         },
         "layout": {
          "annotationdefaults": {
           "arrowcolor": "#2a3f5f",
           "arrowhead": 0,
           "arrowwidth": 1
          },
          "autotypenumbers": "strict",
          "coloraxis": {
           "colorbar": {
            "outlinewidth": 0,
            "ticks": ""
           }
          },
          "colorscale": {
           "diverging": [
            [
             0,
             "#8e0152"
            ],
            [
             0.1,
             "#c51b7d"
            ],
            [
             0.2,
             "#de77ae"
            ],
            [
             0.3,
             "#f1b6da"
            ],
            [
             0.4,
             "#fde0ef"
            ],
            [
             0.5,
             "#f7f7f7"
            ],
            [
             0.6,
             "#e6f5d0"
            ],
            [
             0.7,
             "#b8e186"
            ],
            [
             0.8,
             "#7fbc41"
            ],
            [
             0.9,
             "#4d9221"
            ],
            [
             1,
             "#276419"
            ]
           ],
           "sequential": [
            [
             0,
             "#0d0887"
            ],
            [
             0.1111111111111111,
             "#46039f"
            ],
            [
             0.2222222222222222,
             "#7201a8"
            ],
            [
             0.3333333333333333,
             "#9c179e"
            ],
            [
             0.4444444444444444,
             "#bd3786"
            ],
            [
             0.5555555555555556,
             "#d8576b"
            ],
            [
             0.6666666666666666,
             "#ed7953"
            ],
            [
             0.7777777777777778,
             "#fb9f3a"
            ],
            [
             0.8888888888888888,
             "#fdca26"
            ],
            [
             1,
             "#f0f921"
            ]
           ],
           "sequentialminus": [
            [
             0,
             "#0d0887"
            ],
            [
             0.1111111111111111,
             "#46039f"
            ],
            [
             0.2222222222222222,
             "#7201a8"
            ],
            [
             0.3333333333333333,
             "#9c179e"
            ],
            [
             0.4444444444444444,
             "#bd3786"
            ],
            [
             0.5555555555555556,
             "#d8576b"
            ],
            [
             0.6666666666666666,
             "#ed7953"
            ],
            [
             0.7777777777777778,
             "#fb9f3a"
            ],
            [
             0.8888888888888888,
             "#fdca26"
            ],
            [
             1,
             "#f0f921"
            ]
           ]
          },
          "colorway": [
           "#636efa",
           "#EF553B",
           "#00cc96",
           "#ab63fa",
           "#FFA15A",
           "#19d3f3",
           "#FF6692",
           "#B6E880",
           "#FF97FF",
           "#FECB52"
          ],
          "font": {
           "color": "#2a3f5f"
          },
          "geo": {
           "bgcolor": "white",
           "lakecolor": "white",
           "landcolor": "#E5ECF6",
           "showlakes": true,
           "showland": true,
           "subunitcolor": "white"
          },
          "hoverlabel": {
           "align": "left"
          },
          "hovermode": "closest",
          "mapbox": {
           "style": "light"
          },
          "paper_bgcolor": "white",
          "plot_bgcolor": "#E5ECF6",
          "polar": {
           "angularaxis": {
            "gridcolor": "white",
            "linecolor": "white",
            "ticks": ""
           },
           "bgcolor": "#E5ECF6",
           "radialaxis": {
            "gridcolor": "white",
            "linecolor": "white",
            "ticks": ""
           }
          },
          "scene": {
           "xaxis": {
            "backgroundcolor": "#E5ECF6",
            "gridcolor": "white",
            "gridwidth": 2,
            "linecolor": "white",
            "showbackground": true,
            "ticks": "",
            "zerolinecolor": "white"
           },
           "yaxis": {
            "backgroundcolor": "#E5ECF6",
            "gridcolor": "white",
            "gridwidth": 2,
            "linecolor": "white",
            "showbackground": true,
            "ticks": "",
            "zerolinecolor": "white"
           },
           "zaxis": {
            "backgroundcolor": "#E5ECF6",
            "gridcolor": "white",
            "gridwidth": 2,
            "linecolor": "white",
            "showbackground": true,
            "ticks": "",
            "zerolinecolor": "white"
           }
          },
          "shapedefaults": {
           "line": {
            "color": "#2a3f5f"
           }
          },
          "ternary": {
           "aaxis": {
            "gridcolor": "white",
            "linecolor": "white",
            "ticks": ""
           },
           "baxis": {
            "gridcolor": "white",
            "linecolor": "white",
            "ticks": ""
           },
           "bgcolor": "#E5ECF6",
           "caxis": {
            "gridcolor": "white",
            "linecolor": "white",
            "ticks": ""
           }
          },
          "title": {
           "x": 0.05
          },
          "xaxis": {
           "automargin": true,
           "gridcolor": "white",
           "linecolor": "white",
           "ticks": "",
           "title": {
            "standoff": 15
           },
           "zerolinecolor": "white",
           "zerolinewidth": 2
          },
          "yaxis": {
           "automargin": true,
           "gridcolor": "white",
           "linecolor": "white",
           "ticks": "",
           "title": {
            "standoff": 15
           },
           "zerolinecolor": "white",
           "zerolinewidth": 2
          }
         }
        },
        "width": 1024
       }
      }
     },
     "metadata": {},
     "output_type": "display_data"
    }
   ],
   "source": [
    "from Python.optimization import PSO_Objective, plotPSOResult\n",
    "from Python.LMC_util import fingers_idx_LMC\n",
    "\n",
    "# Input parameter    \n",
    "finger_radius = 10 # mm\n",
    "\n",
    "# LMC settings\n",
    "LMC_H = 600 # mm\n",
    "num_LMC = 4\n",
    "LMC_alpha1 = (180-150) / 2 * np.pi / 180\n",
    "LMC_alpha2 = (180-120) / 2 * np.pi / 180\n",
    "LMC_positions = np.array([0,0,0]*num_LMC).reshape(num_LMC, 3) # in mm\n",
    "LMC_orientations = np.array([0,0,0]*num_LMC).reshape(num_LMC, 3) # in deg\n",
    "LMCs = [make_LMC(LMC_loc=LMC_positions[i], LMC_orient=LMC_orientations[i], LMC_H=LMC_H, LMC_alpha1=LMC_alpha1, LMC_alpha2=LMC_alpha2) for i in range(num_LMC)]\n",
    "\n",
    "# input data\n",
    "'''\n",
    "  CAREFUL! The optimizer does not work for a single pose! the more the better\n",
    "          if only a single pose is available then it was to be stacked a few times. e.g 10 times \n",
    "          this is caused by the metric that uses an exposnential norm with the number of poses\n",
    "'''\n",
    "frames = np.array([frame]*10) # one row for each frame (if the data is from multiple LMC then they are just flattened such that frames.shape = (num_recordedposes*num_LMC, num_markers, 3)\n",
    "# transform data in global frame\n",
    "for lm, LMC in enumerate(LMCs):\n",
    "    LMC_orient = R.from_euler('xyz', [*LMC[1]], degrees=True).as_matrix().squeeze()\n",
    "    frames[lm, :] = (LMC_orient @ (frames[lm, :] + LMC[0]).T).T \n",
    "\n",
    "# get data for ray tracing\n",
    "print(frames.shape)\n",
    "handMarkers, palmMarkers, palmPlnNormals, palmCentroids, fingers, forearm_vecs = make_hand_poses(frames)   \n",
    "print(handMarkers.shape)\n",
    "data = [handMarkers, palmMarkers, palmPlnNormals, palmCentroids, fingers, forearm_vecs]\n",
    "\n",
    "# instatiate the optimizer\n",
    "options = {'c1': 0.5, 'c2': 0.3, 'w': 0.9}\n",
    "x_max = np.array([1, 1, 1, 1]*num_LMC)\n",
    "x_min = np.array([-1, -1, -1, -1]*num_LMC)\n",
    "parameter_mult = np.array([1000, 1000, 90, 180]*num_LMC) \n",
    "bounds = (x_min, x_max)\n",
    "\n",
    "n_particles = 30\n",
    "num_iterations = 100\n",
    "args = (data, finger_radius, fingers_idx_LMC, num_LMC, LMC_H, LMC_alpha1, LMC_alpha2, parameter_mult)\n",
    "optimizer = GlobalBestPSO(n_particles=n_particles, dimensions=4*num_LMC, options=options, bounds=bounds)\n",
    "# pos is the optimized LMC location and orientation as\n",
    "'''\n",
    "  pos = np.array([x, y, xrot, zrot]*num_LMC) / parameter_mult \n",
    "  this means pos needs to be multiplied with parameter_mult to get the position in mm and orientation in deg\n",
    "'''\n",
    "# a good cost is smaller than 1e-3\n",
    "cost, pos = optimizer.optimize(PSO_Objective, num_iterations, args=args)\n",
    "plotPSOResult(pos, args)"
   ]
  },
  {
   "cell_type": "code",
   "execution_count": null,
   "metadata": {},
   "outputs": [],
   "source": []
  }
 ],
 "metadata": {
  "kernelspec": {
   "display_name": "OpenSim44",
   "language": "python",
   "name": "python3"
  },
  "language_info": {
   "codemirror_mode": {
    "name": "ipython",
    "version": 3
   },
   "file_extension": ".py",
   "mimetype": "text/x-python",
   "name": "python",
   "nbconvert_exporter": "python",
   "pygments_lexer": "ipython3",
   "version": "3.8.9"
  }
 },
 "nbformat": 4,
 "nbformat_minor": 2
}
