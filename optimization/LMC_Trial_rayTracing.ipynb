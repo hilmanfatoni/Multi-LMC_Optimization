{
 "cells": [
  {
   "cell_type": "code",
   "execution_count": 3,
   "metadata": {},
   "outputs": [
    {
     "name": "stdout",
     "output_type": "stream",
     "text": [
      "The autoreload extension is already loaded. To reload it, use:\n",
      "  %reload_ext autoreload\n"
     ]
    }
   ],
   "source": [
    "%load_ext autoreload\n",
    "%autoreload 2\n",
    "# the imported files are updated each time a cell is executed (good if functions in py files are added and modified)\n",
    "\n",
    "import numpy as np\n",
    "import pandas as pd\n",
    "import plotly.graph_objects as go\n",
    "import sys\n",
    "import os\n",
    "\n",
    "from scipy.spatial.transform import Rotation as R\n",
    "\n",
    "sys.path.insert(0, '..')\n",
    "sys.path.insert(0, '...')\n",
    "\n",
    "from Python.LMC_util import make_LMC, check_LMC_Hand_visibility, make_hand_poses\n",
    "from Python.LMC_util import fingers_idx_LMC"
   ]
  },
  {
   "cell_type": "markdown",
   "metadata": {},
   "source": [
    "# Load and process data"
   ]
  },
  {
   "cell_type": "code",
   "execution_count": 4,
   "metadata": {},
   "outputs": [
    {
     "name": "stdout",
     "output_type": "stream",
     "text": [
      "_________________________________________________________________________\n",
      "Subject1\n",
      "     Naiv\n",
      "         Interp_LMC_Naiv_Static101.txt\n",
      "         Interp_LMC_Naiv_Static102.txt\n",
      "     Opti\n",
      "         Interp_LMC_Opti_Static101.txt\n",
      "         Interp_LMC_Opti_Static102.txt\n"
     ]
    }
   ],
   "source": [
    "# General Settings\n",
    "# Data Path\n",
    "current_dir = os.getcwd()\n",
    "data_path = 'data/LMC_raw'\n",
    "save_path = 'data/LMC_rayTracing'\n",
    "\n",
    "# LMC Settings\n",
    "# Input parameter\n",
    "finger_radius = 10 # mm\n",
    "\n",
    "# LMC settings\n",
    "num_LMC = 1\n",
    "LMC_H = 400 # mm\n",
    "LMC_alpha1 = (180-150) / 2 * np.pi / 180\n",
    "LMC_alpha2 = (180-120) / 2 * np.pi / 180\n",
    "LMC_position = np.array([0,0,0]) # in mm\n",
    "LMC_orientation = np.array([0,0,0]) # in deg\n",
    "LMC = make_LMC(LMC_loc=LMC_position, LMC_orient=LMC_orientation, LMC_H=LMC_H, LMC_alpha1=LMC_alpha1, LMC_alpha2=LMC_alpha2) \n",
    "\n",
    "# PROCES DATA\n",
    "for subject in os.listdir(os.path.join(os.getcwd(),  'data', 'LMC_raw')):\n",
    "    if os.path.isdir(os.path.join(os.getcwd(),  'data', 'LMC_raw', subject)):\n",
    "        print('_________________________________________________________________________')\n",
    "        print(subject)\n",
    "        for trialtype in ['Naiv', 'Opti']:\n",
    "            print('    ', trialtype)\n",
    "            data_path = os.path.join(os.getcwd(),  'data', 'LMC_raw', subject, trialtype)\n",
    "            save_path = os.path.join(os.getcwd(),  'data', 'LMC_rayTracing', subject, trialtype)\n",
    "            # load files\n",
    "            for fi, file in enumerate(os.listdir(os.path.join(current_dir, data_path))):\n",
    "                if '_Trial' in file or '_Static' in file:\n",
    "                    print('        ', file)\n",
    "                    # load trial\n",
    "                    filename = os.path.join(current_dir, data_path, file)\n",
    "                    df = pd.read_csv(filename,index_col=False,sep=r',|\\t', engine='python')\n",
    "                    df = df.replace('\\t','', regex=True)\n",
    "\n",
    "                    # to numpy\n",
    "                    posDatas_ = df.to_numpy()\n",
    "                    posDatas = posDatas_[:, [4, 5, 6] + [13+i for i in range(94-13)]] # cut away unnecessary data\n",
    "                    posDatas = posDatas.reshape(posDatas.shape[0], int(posDatas.shape[1]/3), 3)\n",
    "                    posDatas = posDatas[:, [i for i in range(posDatas.shape[1]) if i not in [0, 2, 3, 8, 13, 18]]] # cut away unnecessary markers\n",
    "\n",
    "                    occlusions = np.zeros([posDatas.shape[0], 5])\n",
    "                    for f in range(posDatas.shape[0]):  #for each frame\n",
    "                        # rotate data such that z points up\n",
    "                        frame = (R.from_euler('XYZ', [90, 0, 0], degrees=True).as_matrix().squeeze() @ posDatas[f].T).T\n",
    "                        frame = frame.astype(np.float64) # otherwise there is a type error for some files\n",
    "                        # transform data in global frame not necessary as we only have one LMC\n",
    "                        if pd.isnull(frame).any(): # np.isnan(frame).any gives an error for the 'PRAM' subject the LMC did not detect the hand:\n",
    "                            occlusions[f, :] = np.array([-1]*5)\n",
    "                            continue\n",
    "                        \n",
    "                        # get data for ray tracing\n",
    "                        handMarkers, palmMarkers, palmPlnNormals, palmCentroids, fingers, forearm_vecs = make_hand_poses(np.array([frame]))   \n",
    "                        occlusions_, _ = check_LMC_Hand_visibility(LMC, pos_markers=handMarkers[0], fingers_idx=fingers_idx_LMC, finger_lines=fingers[0], \n",
    "                                                                    finger_radius=finger_radius, palm_plane_normal=palmPlnNormals[0], \n",
    "                                                                    palm_centroid=palmCentroids[0], palm_markers=palmMarkers[0], forearm_vec=forearm_vecs[0],\n",
    "                                                                    fig = None, verbose=0)\n",
    "                        occlusions[f, :] = occlusions_[2:]\n",
    "                    \n",
    "                    fingers = ['thumb', 'index', 'middle', 'ring', 'pinky']\n",
    "                    for finger in range(5):\n",
    "                        df['visibility_'+fingers[finger]] = occlusions[:, finger]\n",
    "                    savefilename = os.path.join(current_dir, save_path, file)\n",
    "                    df.to_csv(savefilename, header=True, index=None, sep=' ', mode='w', quoting=1, quotechar=' ')\n",
    "                    savefilename = os.path.join(current_dir, save_path, file[:-4] + '.pkl')\n",
    "                    df.to_pickle(savefilename) #long therm storage"
   ]
  }
 ],
 "metadata": {
  "kernelspec": {
   "display_name": "OpenSim44",
   "language": "python",
   "name": "python3"
  },
  "language_info": {
   "codemirror_mode": {
    "name": "ipython",
    "version": 3
   },
   "file_extension": ".py",
   "mimetype": "text/x-python",
   "name": "python",
   "nbconvert_exporter": "python",
   "pygments_lexer": "ipython3",
   "version": "3.8.9"
  }
 },
 "nbformat": 4,
 "nbformat_minor": 2
}
